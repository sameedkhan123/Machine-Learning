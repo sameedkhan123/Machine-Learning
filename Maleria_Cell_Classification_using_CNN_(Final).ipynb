{
  "nbformat": 4,
  "nbformat_minor": 0,
  "metadata": {
    "accelerator": "GPU",
    "colab": {
      "name": "Maleria_Cell_Classification_using_CNN (Final).ipynb",
      "provenance": [],
      "collapsed_sections": [
        "M5Z4QH0bGEUS",
        "1GwzmRxHuN6M",
        "XmjGIW_TYKzN",
        "C5xHrSUKauKg"
      ],
      "toc_visible": true
    },
    "kernelspec": {
      "display_name": "Python 3",
      "language": "python",
      "name": "python3"
    },
    "language_info": {
      "codemirror_mode": {
        "name": "ipython",
        "version": 3
      },
      "file_extension": ".py",
      "mimetype": "text/x-python",
      "name": "python",
      "nbconvert_exporter": "python",
      "pygments_lexer": "ipython3",
      "version": "3.7.1"
    }
  },
  "cells": [
    {
      "cell_type": "markdown",
      "metadata": {
        "id": "9lXOmYjVANjO"
      },
      "source": [
        "    *----------------------------------- AUTHOR_DETAILS -------------------------------------*\n",
        "    |                                                                                                                                    |\n",
        "    |        Project Title = Developing a Malaria Disease Prediction                   |\n",
        "    |        System (from Cell Images) using CNN-based Deep Neural Networks |\n",
        "    |                                                                                                                                    |\n",
        "    |        Author         = Mr. Sameed Khan and Mr. Talha Naeem                                                |\n",
        "    |                                                                                                                                    |\n",
        "    |        Copyright      = Copyright (C) 2020 Mr. Talha Naeem and                    |\n",
        "    |                                      Mr. Talha Naeem                                                                 |\n",
        "    |                                                                                                                                   |\n",
        "    |        License        = Public Domain                                                                         |\n",
        "    |                                                                                                                                   |\n",
        "    |        Version        = 1.0                                                                                            |\n",
        "    |                                                                                                                                   |\n",
        "    *-------------------------------------------------------------------------------------------------*\n"
      ]
    },
    {
      "cell_type": "markdown",
      "metadata": {
        "id": "oznqY-LuVuVW"
      },
      "source": [
        "# **Project Purpose**\n",
        "The main purpose of this Project is to demonstrate how CNN-based Deep Neural Network can be used for the development and evaluation of Maleria Cell Prediction System (from Cell Images). For this purpose, In sha Allah, I will treat Maleria Cell Prediction Problem as a Binary Classificaiton Problem i.e. the main goal is to discriminate between two Classses: (1) Parasitized and (2) Uninfected. In sha Allah, in the next Section, I will execute the Machine Learning Cycle.\n",
        "\n",
        "\tInput\n",
        "\n",
        "> Cell Image\n",
        "\t\n",
        "\tOutput\n",
        "\n",
        "> Label (Parasitized / Uninfected)\t\n",
        "\n"
      ]
    },
    {
      "cell_type": "markdown",
      "metadata": {
        "id": "J7AMWZiztnZf"
      },
      "source": [
        "### Mount Google Drive"
      ]
    },
    {
      "cell_type": "code",
      "metadata": {
        "id": "1kfyahOBtrgv",
        "colab": {
          "base_uri": "https://localhost:8080/"
        },
        "outputId": "56e8fb8b-96d2-4845-ba5d-d1d28bd99cef"
      },
      "source": [
        "''' \n",
        "    /*----------------------------- MOUNT_GOOGLE_DRIVE -------------\n",
        "      - To connect your colab notebook with google drive\n",
        "''' \n",
        "from google.colab import drive\n",
        "drive.mount('/content/drive')"
      ],
      "execution_count": null,
      "outputs": [
        {
          "output_type": "stream",
          "text": [
            "Mounted at /content/drive\n"
          ],
          "name": "stdout"
        }
      ]
    },
    {
      "cell_type": "markdown",
      "metadata": {
        "id": "M5Z4QH0bGEUS"
      },
      "source": [
        "# **Machine Learning Cycle**\n",
        "## **Four phases of a Machine Learning Cycle are**\n",
        "### **Training Phase**\n",
        "  * **Build the Model using Training Data**\n",
        "\n",
        "### **Testing Phase**\n",
        "  * **Evaluate the performance of Model using Testing Data**\n",
        "\n",
        "### **Application Phase**\n",
        "  * **Deploy the Model in Real-world , to make prediction on Real-time unseen Data**\n",
        "  \n",
        "### **Feedback Phase**\n",
        "  * **Take Feedback form the Users and Domain Experts to improve the Model**"
      ]
    },
    {
      "cell_type": "markdown",
      "metadata": {
        "id": "1GwzmRxHuN6M"
      },
      "source": [
        "# Steps – Executing Machine Learning Cycle Using Separate Files\n",
        "## Step 1: Import Libraries\n",
        "## Step 2: Load Training Data, Testing Data and Validation Data\n",
        "### Step 2.1: Load Training Data\n",
        "### Step 2.2: Load Validation Data\n",
        "### Step 2.3: Load Testing Data\t\n",
        "## Step 3: Understand and Pre-process Training Data, Validation Data and Testing Data\n",
        "### Step 3.1: Understand Training Data\n",
        "### Step 3.2: Understand Validation Data\n",
        "### Step 3.3: Understand Testing Data\n",
        "### Step 3.4: Pre-process Training Data\n",
        "#### Step 3.4.1: GrayScale Cell Images of Training Data\n",
        "#### Step 3.4.2: Resize Cell Images in Training Data\n",
        "### Step 3.5: Pre-process Validation Data\n",
        "#### **Step 3.5.1: GrayScale Cell Images of Validation Data**\n",
        "#### Step 3.5.2: Resize Cell Images in Validation Data\n",
        "### **Step 3.6: Pre-process Testing Data**\n",
        "#### **Step 3.6.1: GrayScale Cell Images of Testing Data**\n",
        "#### **Step 3.6.2: Resize Cell Images in Testing Data**\n",
        "\n",
        "## Step 4: Represent Training Data, Validation Data and  Testing Data in Machine Understandable Format\n",
        "### Step 4.1: Represent Training Data into Machine Understandable Format\n",
        "#### Step 4.1.1: Convert Resized Grayscale Cell Images in Training Data into Numpy Array\n",
        "#### Step 4.1.2: Nomalize Numpy Array of Grayscale Cell Images in Training Data\n",
        "\n",
        "### Step 4.2: Represent Validation Data into Machine Understandable Format\n",
        "#### Step 4.2.1: Convert Resized Grayscale Cell Images in Validation Data into Numpy Array\n",
        "#### Step 4.2.2: Nomalize Numpy Array of Grayscale Cell Images in Validation Data\n",
        "### Step 4.3: Represent Testing Data into Machine Understandable Format\n",
        "#### Step 4.3.1: Convert Resized Grayscale Cell Images in Testing Data into Numpy Array\n",
        "#### Step 4.3.2: Nomalize Numpy Array of Grayscale Cell Images in Testing Data\n",
        "\n",
        "## Step 5: Execute the Training Phase\n",
        "### Step 5.1: Create CNN Model Architecture\n",
        "### Step 5.2: Hyperparameters Settings\n",
        "### Step 5.3: Create CNN Model Object\n",
        "### Step 5.4: Initialize Optimizer and Loss Function\n",
        "### Step 5.5: Evaluation Measure\n",
        "### Step 5.6: Calculate Epoch Elapsed Time\n",
        "### Step 5.7: Train Model\n",
        "### Step 5.8: Save Model\n",
        "\n",
        "## Step 6: Execute the Testing Phase\n",
        "### Step 6.1: Load Saved Model (Saved in Step 5.8)\n",
        "### Step 6.2: Make Predictions on Testing Data\n",
        "### Step 6.3: Evaluate Performance of Trained Model on Test Data\n",
        "#### Step 6.3.1: Calculate Accuracy\n",
        "#### Step 6.3.2: Draw Confusion Matrix\n",
        "#### Step 6.3.3: Print Classification Report\n",
        "\n",
        "## Step 7: Execute the Application Phase\n",
        "### Step 7.1: Take Input (X-ray Image) from User \n",
        "### Step 7.2: Convert User Input (Cell Image) into Feature Vector (Exactly Same as Feature Vectors of Training Data, Testing Data and Validation Data)\n",
        "### Step 7.3: Make Prediction on Unseen Data\n",
        "#### Step 7.3.1: Load the Model (Saved in Step 5.8)\n",
        "#### Step 7.3.2: Apply Model on Feature Vector of Unseen Data\n",
        "#### Step 7.3.3: Return Prediction to the User\n",
        "\n",
        "## Step 8: Execute the Feedback Phase\n",
        "## Step 9: Improve Model Based on Feedback"
      ]
    },
    {
      "cell_type": "code",
      "metadata": {
        "colab": {
          "base_uri": "https://localhost:8080/"
        },
        "id": "_PsVdGOaN3Dr",
        "outputId": "a8a10646-6292-4696-c590-a03f265a5eac"
      },
      "source": [
        "!git clone https://github.com/laxmimerit/Malaria-Classification-Using-CNN.git"
      ],
      "execution_count": null,
      "outputs": [
        {
          "output_type": "stream",
          "text": [
            "Cloning into 'Malaria-Classification-Using-CNN'...\n",
            "remote: Enumerating objects: 27577, done.\u001b[K\n",
            "remote: Total 27577 (delta 0), reused 0 (delta 0), pack-reused 27577\u001b[K\n",
            "Receiving objects: 100% (27577/27577), 331.67 MiB | 53.82 MiB/s, done.\n",
            "Resolving deltas: 100% (3/3), done.\n",
            "Checking out files: 100% (27562/27562), done.\n"
          ],
          "name": "stdout"
        }
      ]
    },
    {
      "cell_type": "markdown",
      "metadata": {
        "id": "v_7uHD-muk0h"
      },
      "source": [
        "# Step 1: Import Libraries\n",
        "\n"
      ]
    },
    {
      "cell_type": "code",
      "metadata": {
        "id": "w54FWaAYuu5N"
      },
      "source": [
        "''' \n",
        "    /*----------------------------- IMPORT_LIBRARIES -------------\n",
        "'''\n",
        "import tensorflow as tf\n",
        "from tensorflow.keras import Sequential\n",
        "from tensorflow.keras.layers import Conv2D,MaxPool2D,Dropout,Flatten,Dense,BatchNormalization,MaxPooling2D\n",
        "from tensorflow.keras.preprocessing.image import ImageDataGenerator\n",
        "from keras_preprocessing.image import array_to_img\n",
        "from sklearn.metrics import plot_confusion_matrix\n",
        "from sklearn.utils.multiclass import unique_labels\n",
        "import numpy as np\n",
        "import pandas as pd\n",
        "import itertools\n",
        "import random\n",
        "import cv2\n",
        "import os\n",
        "import matplotlib.pyplot as plt"
      ],
      "execution_count": null,
      "outputs": []
    },
    {
      "cell_type": "code",
      "metadata": {
        "id": "RqdI8EFwP7qP",
        "colab": {
          "base_uri": "https://localhost:8080/"
        },
        "outputId": "f407c84a-37ae-443d-f964-1b0565a5f837"
      },
      "source": [
        "print(tf.version.VERSION)\n",
        "print(tf.keras.__version__)\n"
      ],
      "execution_count": null,
      "outputs": [
        {
          "output_type": "stream",
          "text": [
            "2.4.0\n",
            "2.4.0\n"
          ],
          "name": "stdout"
        }
      ]
    },
    {
      "cell_type": "markdown",
      "metadata": {
        "id": "IRjISv3AvFas"
      },
      "source": [
        "# Step 2: Load Training Data, Validation Data and Testing Data\n"
      ]
    },
    {
      "cell_type": "code",
      "metadata": {
        "id": "_s78VubTHrbX"
      },
      "source": [
        "data = []\n",
        "labels = ['Parasitized', 'Uninfected']\n",
        "img_width  = 224\n",
        "img_height = 224\n",
        "img_dmntn = (img_width,img_height)\n",
        "\n",
        "def get_Data(data_dir):\n",
        "    data = [] \n",
        "    label =[]\n",
        "    for label in labels: \n",
        "        path = os.path.join(data_dir, label)\n",
        "        class_num = labels.index(label)\n",
        "        for img in os.listdir(path):\n",
        "            try:\n",
        "                img_arr = cv2.imread(os.path.join(path, img), cv2.IMREAD_COLOR)\n",
        "                resized_arr = cv2.resize(img_arr, img_dmntn) # Reshaping images to preferred size\n",
        "                data.append([resized_arr, class_num])\n",
        "            except Exception as e:\n",
        "                print(e)\n",
        "    return np.array(data), label"
      ],
      "execution_count": null,
      "outputs": []
    },
    {
      "cell_type": "code",
      "metadata": {
        "id": "OeM0P3POmRn-",
        "colab": {
          "base_uri": "https://localhost:8080/"
        },
        "outputId": "0b31196b-d16e-466b-c9df-0d4a543992de"
      },
      "source": [
        "print(os.listdir(\"../content/Malaria-Classification-Using-CNN/malaria-dataset\"))"
      ],
      "execution_count": null,
      "outputs": [
        {
          "output_type": "stream",
          "text": [
            "['Uninfected', 'Parasitized']\n"
          ],
          "name": "stdout"
        }
      ]
    },
    {
      "cell_type": "markdown",
      "metadata": {
        "id": "AMtwHA1EJfAf"
      },
      "source": [
        "### **Step 2.1: Load Training Data**\n"
      ]
    },
    {
      "cell_type": "code",
      "metadata": {
        "id": "ofwIzYyoIBit",
        "colab": {
          "base_uri": "https://localhost:8080/",
          "height": 316
        },
        "outputId": "a2c592ca-fa72-4f54-f854-7f855f072f56"
      },
      "source": [
        "training_data, training_label = get_Data('../content/Malaria-Classification-Using-CNN/malaria-dataset/Parasitized')"
      ],
      "execution_count": null,
      "outputs": [
        {
          "output_type": "error",
          "ename": "FileNotFoundError",
          "evalue": "ignored",
          "traceback": [
            "\u001b[0;31m---------------------------------------------------------------------------\u001b[0m",
            "\u001b[0;31mFileNotFoundError\u001b[0m                         Traceback (most recent call last)",
            "\u001b[0;32m<ipython-input-7-9529522f94eb>\u001b[0m in \u001b[0;36m<module>\u001b[0;34m()\u001b[0m\n\u001b[0;32m----> 1\u001b[0;31m \u001b[0mtraining_data\u001b[0m\u001b[0;34m,\u001b[0m \u001b[0mtraining_label\u001b[0m \u001b[0;34m=\u001b[0m \u001b[0mget_Data\u001b[0m\u001b[0;34m(\u001b[0m\u001b[0;34m'../content/Malaria-Classification-Using-CNN/malaria-dataset/Parasitized'\u001b[0m\u001b[0;34m)\u001b[0m\u001b[0;34m\u001b[0m\u001b[0;34m\u001b[0m\u001b[0m\n\u001b[0m",
            "\u001b[0;32m<ipython-input-5-a10b4b980fe0>\u001b[0m in \u001b[0;36mget_Data\u001b[0;34m(data_dir)\u001b[0m\n\u001b[1;32m     11\u001b[0m         \u001b[0mpath\u001b[0m \u001b[0;34m=\u001b[0m \u001b[0mos\u001b[0m\u001b[0;34m.\u001b[0m\u001b[0mpath\u001b[0m\u001b[0;34m.\u001b[0m\u001b[0mjoin\u001b[0m\u001b[0;34m(\u001b[0m\u001b[0mdata_dir\u001b[0m\u001b[0;34m,\u001b[0m \u001b[0mlabel\u001b[0m\u001b[0;34m)\u001b[0m\u001b[0;34m\u001b[0m\u001b[0;34m\u001b[0m\u001b[0m\n\u001b[1;32m     12\u001b[0m         \u001b[0mclass_num\u001b[0m \u001b[0;34m=\u001b[0m \u001b[0mlabels\u001b[0m\u001b[0;34m.\u001b[0m\u001b[0mindex\u001b[0m\u001b[0;34m(\u001b[0m\u001b[0mlabel\u001b[0m\u001b[0;34m)\u001b[0m\u001b[0;34m\u001b[0m\u001b[0;34m\u001b[0m\u001b[0m\n\u001b[0;32m---> 13\u001b[0;31m         \u001b[0;32mfor\u001b[0m \u001b[0mimg\u001b[0m \u001b[0;32min\u001b[0m \u001b[0mos\u001b[0m\u001b[0;34m.\u001b[0m\u001b[0mlistdir\u001b[0m\u001b[0;34m(\u001b[0m\u001b[0mpath\u001b[0m\u001b[0;34m)\u001b[0m\u001b[0;34m:\u001b[0m\u001b[0;34m\u001b[0m\u001b[0;34m\u001b[0m\u001b[0m\n\u001b[0m\u001b[1;32m     14\u001b[0m             \u001b[0;32mtry\u001b[0m\u001b[0;34m:\u001b[0m\u001b[0;34m\u001b[0m\u001b[0;34m\u001b[0m\u001b[0m\n\u001b[1;32m     15\u001b[0m                 \u001b[0mimg_arr\u001b[0m \u001b[0;34m=\u001b[0m \u001b[0mcv2\u001b[0m\u001b[0;34m.\u001b[0m\u001b[0mimread\u001b[0m\u001b[0;34m(\u001b[0m\u001b[0mos\u001b[0m\u001b[0;34m.\u001b[0m\u001b[0mpath\u001b[0m\u001b[0;34m.\u001b[0m\u001b[0mjoin\u001b[0m\u001b[0;34m(\u001b[0m\u001b[0mpath\u001b[0m\u001b[0;34m,\u001b[0m \u001b[0mimg\u001b[0m\u001b[0;34m)\u001b[0m\u001b[0;34m,\u001b[0m \u001b[0mcv2\u001b[0m\u001b[0;34m.\u001b[0m\u001b[0mIMREAD_COLOR\u001b[0m\u001b[0;34m)\u001b[0m\u001b[0;34m\u001b[0m\u001b[0;34m\u001b[0m\u001b[0m\n",
            "\u001b[0;31mFileNotFoundError\u001b[0m: [Errno 2] No such file or directory: '../content/Malaria-Classification-Using-CNN/malaria-dataset/Parasitized/Parasitized'"
          ]
        }
      ]
    },
    {
      "cell_type": "markdown",
      "metadata": {
        "id": "Mn5evZDBJi7X"
      },
      "source": [
        "### **Step 2.2: Load Validation Data**"
      ]
    },
    {
      "cell_type": "code",
      "metadata": {
        "id": "nQ9DCnBCLExy"
      },
      "source": [
        "validation_data, validation_label = get_Data('../content/drive/MyDrive/Maleria_Sample Data/Validation_Data')"
      ],
      "execution_count": null,
      "outputs": []
    },
    {
      "cell_type": "markdown",
      "metadata": {
        "id": "hPAEm-JZJnfI"
      },
      "source": [
        "### **Step 2.3: Load Testing Data**\n"
      ]
    },
    {
      "cell_type": "code",
      "metadata": {
        "id": "KLFctKxzLCog"
      },
      "source": [
        "testing_data, testing_label = get_Data('../content/drive/MyDrive/Maleria_Sample Data/Testing_Data')"
      ],
      "execution_count": null,
      "outputs": []
    },
    {
      "cell_type": "markdown",
      "metadata": {
        "id": "M69Tmoz-vxWu"
      },
      "source": [
        "# **Step 3: Understand and Pre-process Training Data, Validation Data and Testing Data**\n"
      ]
    },
    {
      "cell_type": "code",
      "metadata": {
        "id": "kih5D5YMM4ds"
      },
      "source": [
        "#Plat an Image\n",
        "def plot_img(data,data_size):\n",
        "  fig,aixs=plt.subplots(data_size,2)\n",
        "  fig.set_size_inches(5,5)\n",
        "  if len(data) == 0:\n",
        "        print(\"no images to show\") \n",
        "  for i in range(data_size):\n",
        "      for j in range (2):\n",
        "          l=random.randint(0,len(data))\n",
        "          aixs[i,j].imshow(data[l][0])\n",
        "          aixs[i,j].set_title('Label: '+ labels[data[l][1]])\n",
        "  plt.tight_layout()"
      ],
      "execution_count": null,
      "outputs": []
    },
    {
      "cell_type": "code",
      "metadata": {
        "id": "ROqvYRZIgrAi"
      },
      "source": [
        "def cnvt_color(dataset):\n",
        "\n",
        "  # lists to store data\n",
        "  data = []\n",
        "\n",
        "  for imag in np.array(dataset):\n",
        "    img = array_to_img(imag)\n",
        "    gray = cv2.cvtColor(np.float32(img), cv2.COLOR_BGR2GRAY)\n",
        "    data.append(gray)\n",
        "    \n",
        "  return np.array(data)"
      ],
      "execution_count": null,
      "outputs": []
    },
    {
      "cell_type": "code",
      "metadata": {
        "id": "1vX8ECnZIrLW",
        "colab": {
          "base_uri": "https://localhost:8080/",
          "height": 454
        },
        "outputId": "6cb506d3-64f3-4f8b-a91b-477027c89d20"
      },
      "source": [
        "plt.figure(figsize = (3,3))\n",
        "plt.imshow(training_data[0][0])\n",
        "plt.title(\"Label: \"+labels[training_data[0][1]])\n",
        "\n",
        "plt.figure(figsize = (3,3))\n",
        "plt.imshow(training_data[-1][0])\n",
        "plt.title(\"Label: \"+labels[training_data[-1][1]])\n"
      ],
      "execution_count": null,
      "outputs": [
        {
          "output_type": "execute_result",
          "data": {
            "text/plain": [
              "Text(0.5, 1.0, 'Label: Uninfected')"
            ]
          },
          "metadata": {
            "tags": []
          },
          "execution_count": 13
        },
        {
          "output_type": "display_data",
          "data": {
            "image/png": "[encoded data removed]",
            "text/plain": [
              "<Figure size 216x216 with 1 Axes>"
            ]
          },
          "metadata": {
            "tags": [],
            "needs_background": "light"
          }
        },
        {
          "output_type": "display_data",
          "data": {
            "image/png": "[encoded data removed]",
            "text/plain": [
              "<Figure size 216x216 with 1 Axes>"
            ]
          },
          "metadata": {
            "tags": [],
            "needs_background": "light"
          }
        }
      ]
    },
    {
      "cell_type": "markdown",
      "metadata": {
        "id": "qlf0UjPcWPrt"
      },
      "source": [
        "## **Step 3.1: Understand Training Data**\n",
        "\n"
      ]
    },
    {
      "cell_type": "code",
      "metadata": {
        "id": "n6DbaKjXbiYI",
        "colab": {
          "base_uri": "https://localhost:8080/"
        },
        "outputId": "ae848c90-c1a8-4bbc-f7f7-84d1076ca16d"
      },
      "source": [
        "datagen = ImageDataGenerator( )\n",
        "print(\"Training Data:\") \n",
        "train_data = datagen.flow_from_directory(\"../content/drive/MyDrive/Maleria_Sample Data/Training_Data\",\n",
        "                                                     class_mode = 'binary'\n",
        "                                                     )\n",
        "print(\"Training Data Shape \",training_data.shape)"
      ],
      "execution_count": null,
      "outputs": [
        {
          "output_type": "stream",
          "text": [
            "Training Data:\n",
            "Found 72 images belonging to 2 classes.\n",
            "Training Data Shape  (72, 2)\n"
          ],
          "name": "stdout"
        }
      ]
    },
    {
      "cell_type": "code",
      "metadata": {
        "id": "80E6D7gyeowC",
        "colab": {
          "base_uri": "https://localhost:8080/",
          "height": 369
        },
        "outputId": "31e7c483-ae56-414a-d949-263c3fd79f9c"
      },
      "source": [
        "plot_img(data=training_data, data_size=2)"
      ],
      "execution_count": null,
      "outputs": [
        {
          "output_type": "display_data",
          "data": {
            "image/png": "[encoded data removed]",
            "text/plain": [
              "<Figure size 360x360 with 4 Axes>"
            ]
          },
          "metadata": {
            "tags": [],
            "needs_background": "light"
          }
        }
      ]
    },
    {
      "cell_type": "markdown",
      "metadata": {
        "id": "TYBRu7T7Y0a5"
      },
      "source": [
        "## **Step 3.2: Understand Validation Data**\n"
      ]
    },
    {
      "cell_type": "code",
      "metadata": {
        "id": "1lNNtqRyG6TP",
        "colab": {
          "base_uri": "https://localhost:8080/"
        },
        "outputId": "2f8a4a0c-eb3c-483a-ee88-d34b62e414e7"
      },
      "source": [
        "print(\"Validation Data:\")\n",
        "valid_data = datagen.flow_from_directory(\"../content/drive/MyDrive/Maleria_Sample Data/Validation_Data\",\n",
        "                                                     class_mode = 'binary'\n",
        "                                                     )\n",
        "print(\"Validation Data Shape \",validation_data.shape)"
      ],
      "execution_count": null,
      "outputs": [
        {
          "output_type": "stream",
          "text": [
            "Validation Data:\n",
            "Found 8 images belonging to 2 classes.\n",
            "Validation Data Shape  (8, 2)\n"
          ],
          "name": "stdout"
        }
      ]
    },
    {
      "cell_type": "code",
      "metadata": {
        "id": "TXun8hLWi466",
        "colab": {
          "base_uri": "https://localhost:8080/",
          "height": 369
        },
        "outputId": "6fc89208-d5c4-4163-fe72-4434f3d937ef"
      },
      "source": [
        "plot_img(data=validation_data, data_size=2)"
      ],
      "execution_count": null,
      "outputs": [
        {
          "output_type": "display_data",
          "data": {
            "image/png": "[encoded data removed]",
            "text/plain": [
              "<Figure size 360x360 with 4 Axes>"
            ]
          },
          "metadata": {
            "tags": [],
            "needs_background": "light"
          }
        }
      ]
    },
    {
      "cell_type": "markdown",
      "metadata": {
        "id": "E8LAE1IXY-Dk"
      },
      "source": [
        "## **Step 3.3: Understand Testing Data**\n"
      ]
    },
    {
      "cell_type": "code",
      "metadata": {
        "id": "RsD2tbtAgiOc",
        "colab": {
          "base_uri": "https://localhost:8080/"
        },
        "outputId": "3f800b05-b9bb-42cd-ae6e-aa4b846d9c75"
      },
      "source": [
        "print(\"Testing Data:\")\n",
        "test_data = datagen.flow_from_directory(\"../content/drive/MyDrive/Maleria_Sample Data/Testing_Data\",\n",
        "                                                     class_mode = 'binary'\n",
        "                                                     )\n",
        "print(\"Testing Data Shape\",testing_data.shape)"
      ],
      "execution_count": null,
      "outputs": [
        {
          "output_type": "stream",
          "text": [
            "Testing Data:\n",
            "Found 20 images belonging to 2 classes.\n",
            "Testing Data Shape (20, 2)\n"
          ],
          "name": "stdout"
        }
      ]
    },
    {
      "cell_type": "code",
      "metadata": {
        "colab": {
          "base_uri": "https://localhost:8080/",
          "height": 369
        },
        "id": "93gB0v8ek4FP",
        "outputId": "c20626f8-be48-4cd9-ac90-be51b89a3834"
      },
      "source": [
        "plot_img(data=testing_data, data_size=2)"
      ],
      "execution_count": null,
      "outputs": [
        {
          "output_type": "display_data",
          "data": {
            "image/png": "[encoded data removed]",
            "text/plain": [
              "<Figure size 360x360 with 4 Axes>"
            ]
          },
          "metadata": {
            "tags": [],
            "needs_background": "light"
          }
        }
      ]
    },
    {
      "cell_type": "markdown",
      "metadata": {
        "id": "wjepld3uZAko"
      },
      "source": [
        "## **Step 3.4: Pre-process Training Data**\n"
      ]
    },
    {
      "cell_type": "code",
      "metadata": {
        "colab": {
          "base_uri": "https://localhost:8080/"
        },
        "id": "KzvnY2htxWfE",
        "outputId": "264388fa-f135-4ed2-f318-0cd733580435"
      },
      "source": [
        "input_training_data = []\n",
        "output_training_label = []\n",
        "\n",
        "for feature, label in np.array(training_data):\n",
        "    input_training_data.append(feature)\n",
        "    output_training_label.append(label)\n",
        "\n",
        "print(np.array(input_training_data).shape)\n"
      ],
      "execution_count": null,
      "outputs": [
        {
          "output_type": "stream",
          "text": [
            "(72, 224, 224, 3)\n"
          ],
          "name": "stdout"
        }
      ]
    },
    {
      "cell_type": "markdown",
      "metadata": {
        "id": "O9ZPdPCuZC8v"
      },
      "source": [
        "### **Step 3.4.1: GrayScale Cell Images of Training Data**\n"
      ]
    },
    {
      "cell_type": "code",
      "metadata": {
        "colab": {
          "base_uri": "https://localhost:8080/"
        },
        "id": "ivjpAuEkjqpL",
        "outputId": "28d6af34-0f8d-4420-b617-a4a8320d1361"
      },
      "source": [
        "grayscale_training_data  = cnvt_color(input_training_data)\n",
        "print((grayscale_training_data).shape)\n"
      ],
      "execution_count": null,
      "outputs": [
        {
          "output_type": "stream",
          "text": [
            "(72, 224, 224)\n"
          ],
          "name": "stdout"
        }
      ]
    },
    {
      "cell_type": "markdown",
      "metadata": {
        "id": "eSTQfkjvZFdD"
      },
      "source": [
        "### **Step 3.4.2: Resize Cell Images in Training Data**\n",
        "\n"
      ]
    },
    {
      "cell_type": "code",
      "metadata": {
        "colab": {
          "base_uri": "https://localhost:8080/"
        },
        "id": "pao-KGqTzN83",
        "outputId": "9147ff31-cc88-4278-d348-61a134d17f96"
      },
      "source": [
        "resized_training_data = grayscale_training_data.reshape(-1, img_width,img_height,1)\n",
        "normalized_training_label = np.array(output_training_label)\n",
        "print(np.array(resized_training_data).shape)"
      ],
      "execution_count": null,
      "outputs": [
        {
          "output_type": "stream",
          "text": [
            "(72, 224, 224, 1)\n"
          ],
          "name": "stdout"
        }
      ]
    },
    {
      "cell_type": "markdown",
      "metadata": {
        "id": "wSXvVj5TZKOU"
      },
      "source": [
        "## **Step 3.5: Pre-process Validation Data**\n"
      ]
    },
    {
      "cell_type": "code",
      "metadata": {
        "colab": {
          "base_uri": "https://localhost:8080/"
        },
        "id": "bW50cVWQyFEJ",
        "outputId": "e629d7af-73cd-4792-befc-fd37dffa807c"
      },
      "source": [
        "input_validation_data = []\n",
        "output_validation_label = []\n",
        "\n",
        "for feature, label in validation_data:\n",
        "    input_validation_data.append(feature)\n",
        "    output_validation_label.append(label)\n",
        "\n",
        "print(np.array(input_validation_data).shape)\n"
      ],
      "execution_count": null,
      "outputs": [
        {
          "output_type": "stream",
          "text": [
            "(8, 224, 224, 3)\n"
          ],
          "name": "stdout"
        }
      ]
    },
    {
      "cell_type": "markdown",
      "metadata": {
        "id": "Wr9JKKEzZMmf"
      },
      "source": [
        "### **Step 3.5.1: GrayScale Cell Images of Validation Data**\n"
      ]
    },
    {
      "cell_type": "code",
      "metadata": {
        "colab": {
          "base_uri": "https://localhost:8080/"
        },
        "id": "pFqvqqeM0XJC",
        "outputId": "8ac9cda1-857c-41b4-b1fc-a28fa1ad9b18"
      },
      "source": [
        "grayscale_validation_data = cnvt_color(input_validation_data)\n",
        "print(np.array(grayscale_validation_data).shape)"
      ],
      "execution_count": null,
      "outputs": [
        {
          "output_type": "stream",
          "text": [
            "(8, 224, 224)\n"
          ],
          "name": "stdout"
        }
      ]
    },
    {
      "cell_type": "markdown",
      "metadata": {
        "id": "EKx2ImwVZOch"
      },
      "source": [
        "### **Step 3.5.2: Resize Cell Images in Validation Data**"
      ]
    },
    {
      "cell_type": "code",
      "metadata": {
        "colab": {
          "base_uri": "https://localhost:8080/"
        },
        "id": "gkAb8Ip50l5Q",
        "outputId": "3ac60b28-6d5a-499d-d811-ada6d6e92cd6"
      },
      "source": [
        "resized_validation_data = grayscale_validation_data.reshape(-1, img_width,img_height,1)\n",
        "normalized_validation_label = np.array(output_validation_label)\n",
        "print(np.array(resized_validation_data).shape)"
      ],
      "execution_count": null,
      "outputs": [
        {
          "output_type": "stream",
          "text": [
            "(8, 224, 224, 1)\n"
          ],
          "name": "stdout"
        }
      ]
    },
    {
      "cell_type": "markdown",
      "metadata": {
        "id": "Ao7KP0G5ZQWe"
      },
      "source": [
        "## **Step 3.6: Pre-process Testing Data**\n"
      ]
    },
    {
      "cell_type": "code",
      "metadata": {
        "colab": {
          "base_uri": "https://localhost:8080/"
        },
        "id": "Vkw8QENiyUJE",
        "outputId": "46a69b16-e191-4cad-84bb-5e8117e3b721"
      },
      "source": [
        "input_testing_data = []\n",
        "output_testing_label = []\n",
        "\n",
        "for feature, label in testing_data:\n",
        "    input_testing_data.append(feature)\n",
        "    output_testing_label.append(label)\n",
        "    \n",
        "print(np.array(input_testing_data).shape)\n"
      ],
      "execution_count": null,
      "outputs": [
        {
          "output_type": "stream",
          "text": [
            "(20, 224, 224, 3)\n"
          ],
          "name": "stdout"
        }
      ]
    },
    {
      "cell_type": "markdown",
      "metadata": {
        "id": "ucAjBgmVZSgZ"
      },
      "source": [
        "### **Step 3.6.1: GrayScale Cell Images of Testing Data**\n"
      ]
    },
    {
      "cell_type": "code",
      "metadata": {
        "colab": {
          "base_uri": "https://localhost:8080/"
        },
        "id": "_vDga4iM0czO",
        "outputId": "971b6b48-231c-41ff-9074-8d0c78c337b6"
      },
      "source": [
        "grayscale_testing_data    = cnvt_color(input_testing_data)\n",
        "print(np.array(grayscale_testing_data).shape)"
      ],
      "execution_count": null,
      "outputs": [
        {
          "output_type": "stream",
          "text": [
            "(20, 224, 224)\n"
          ],
          "name": "stdout"
        }
      ]
    },
    {
      "cell_type": "markdown",
      "metadata": {
        "id": "AfLBs0gpZUoA"
      },
      "source": [
        "### **Step 3.6.2: Resize Cell Images in Testing Data**\n"
      ]
    },
    {
      "cell_type": "code",
      "metadata": {
        "colab": {
          "base_uri": "https://localhost:8080/"
        },
        "id": "bQkuufgQ0wW_",
        "outputId": "3d7b6e5a-e4e5-4f27-88ac-57e56ea4bf6d"
      },
      "source": [
        "resized_testing_data = grayscale_testing_data.reshape(-1, img_width,img_height,1)\n",
        "normalized_testing_label = np.array(output_testing_label)\n",
        "print(np.array(resized_testing_data).shape)"
      ],
      "execution_count": null,
      "outputs": [
        {
          "output_type": "stream",
          "text": [
            "(20, 224, 224, 1)\n"
          ],
          "name": "stdout"
        }
      ]
    },
    {
      "cell_type": "markdown",
      "metadata": {
        "id": "QyA0vvAYv4qI"
      },
      "source": [
        "# **Step 4: Represent Training Data, Validation Data and Testing Data in Machine Understandable Format**"
      ]
    },
    {
      "cell_type": "markdown",
      "metadata": {
        "id": "PH7ncmCyBKTu"
      },
      "source": [
        "## **Step 4.1: Represent Training Data into Machine Understandable Format**\n"
      ]
    },
    {
      "cell_type": "markdown",
      "metadata": {
        "id": "F0j-hHGXBM8R"
      },
      "source": [
        "### **Step 4.1.1: Convert Resized Grayscale Cell Images in Training Data into Numpy Array**\n"
      ]
    },
    {
      "cell_type": "code",
      "metadata": {
        "colab": {
          "base_uri": "https://localhost:8080/"
        },
        "id": "K6P3lJjXCPcx",
        "outputId": "a1210fc4-b5eb-4c39-a26f-d25a53199889"
      },
      "source": [
        "resized_training_data = np.array(resized_training_data)\n",
        "print(resized_training_data.shape)"
      ],
      "execution_count": null,
      "outputs": [
        {
          "output_type": "stream",
          "text": [
            "(72, 224, 224, 1)\n"
          ],
          "name": "stdout"
        }
      ]
    },
    {
      "cell_type": "markdown",
      "metadata": {
        "id": "CgX9D59zBO6U"
      },
      "source": [
        "### **Step 4.1.2: Nomalize Numpy Array of Grayscale Cell Images in Training Data**\n"
      ]
    },
    {
      "cell_type": "code",
      "metadata": {
        "colab": {
          "base_uri": "https://localhost:8080/"
        },
        "id": "s1H_jM1EDBqz",
        "outputId": "3674858e-bea3-44f7-e0ee-8beb494a3a93"
      },
      "source": [
        "normalized_training_data =resized_training_data/255\n",
        "preprocessed_training_data = normalized_training_data.reshape(-1,img_width,img_height,1)\n",
        "print(preprocessed_training_data)"
      ],
      "execution_count": null,
      "outputs": [
        {
          "output_type": "stream",
          "text": [
            "[[[[0.]\n",
            "   [0.]\n",
            "   [0.]\n",
            "   ...\n",
            "   [0.]\n",
            "   [0.]\n",
            "   [0.]]\n",
            "\n",
            "  [[0.]\n",
            "   [0.]\n",
            "   [0.]\n",
            "   ...\n",
            "   [0.]\n",
            "   [0.]\n",
            "   [0.]]\n",
            "\n",
            "  [[0.]\n",
            "   [0.]\n",
            "   [0.]\n",
            "   ...\n",
            "   [0.]\n",
            "   [0.]\n",
            "   [0.]]\n",
            "\n",
            "  ...\n",
            "\n",
            "  [[0.]\n",
            "   [0.]\n",
            "   [0.]\n",
            "   ...\n",
            "   [0.]\n",
            "   [0.]\n",
            "   [0.]]\n",
            "\n",
            "  [[0.]\n",
            "   [0.]\n",
            "   [0.]\n",
            "   ...\n",
            "   [0.]\n",
            "   [0.]\n",
            "   [0.]]\n",
            "\n",
            "  [[0.]\n",
            "   [0.]\n",
            "   [0.]\n",
            "   ...\n",
            "   [0.]\n",
            "   [0.]\n",
            "   [0.]]]\n",
            "\n",
            "\n",
            " [[[0.]\n",
            "   [0.]\n",
            "   [0.]\n",
            "   ...\n",
            "   [0.]\n",
            "   [0.]\n",
            "   [0.]]\n",
            "\n",
            "  [[0.]\n",
            "   [0.]\n",
            "   [0.]\n",
            "   ...\n",
            "   [0.]\n",
            "   [0.]\n",
            "   [0.]]\n",
            "\n",
            "  [[0.]\n",
            "   [0.]\n",
            "   [0.]\n",
            "   ...\n",
            "   [0.]\n",
            "   [0.]\n",
            "   [0.]]\n",
            "\n",
            "  ...\n",
            "\n",
            "  [[0.]\n",
            "   [0.]\n",
            "   [0.]\n",
            "   ...\n",
            "   [0.]\n",
            "   [0.]\n",
            "   [0.]]\n",
            "\n",
            "  [[0.]\n",
            "   [0.]\n",
            "   [0.]\n",
            "   ...\n",
            "   [0.]\n",
            "   [0.]\n",
            "   [0.]]\n",
            "\n",
            "  [[0.]\n",
            "   [0.]\n",
            "   [0.]\n",
            "   ...\n",
            "   [0.]\n",
            "   [0.]\n",
            "   [0.]]]\n",
            "\n",
            "\n",
            " [[[0.]\n",
            "   [0.]\n",
            "   [0.]\n",
            "   ...\n",
            "   [0.]\n",
            "   [0.]\n",
            "   [0.]]\n",
            "\n",
            "  [[0.]\n",
            "   [0.]\n",
            "   [0.]\n",
            "   ...\n",
            "   [0.]\n",
            "   [0.]\n",
            "   [0.]]\n",
            "\n",
            "  [[0.]\n",
            "   [0.]\n",
            "   [0.]\n",
            "   ...\n",
            "   [0.]\n",
            "   [0.]\n",
            "   [0.]]\n",
            "\n",
            "  ...\n",
            "\n",
            "  [[0.]\n",
            "   [0.]\n",
            "   [0.]\n",
            "   ...\n",
            "   [0.]\n",
            "   [0.]\n",
            "   [0.]]\n",
            "\n",
            "  [[0.]\n",
            "   [0.]\n",
            "   [0.]\n",
            "   ...\n",
            "   [0.]\n",
            "   [0.]\n",
            "   [0.]]\n",
            "\n",
            "  [[0.]\n",
            "   [0.]\n",
            "   [0.]\n",
            "   ...\n",
            "   [0.]\n",
            "   [0.]\n",
            "   [0.]]]\n",
            "\n",
            "\n",
            " ...\n",
            "\n",
            "\n",
            " [[[0.]\n",
            "   [0.]\n",
            "   [0.]\n",
            "   ...\n",
            "   [0.]\n",
            "   [0.]\n",
            "   [0.]]\n",
            "\n",
            "  [[0.]\n",
            "   [0.]\n",
            "   [0.]\n",
            "   ...\n",
            "   [0.]\n",
            "   [0.]\n",
            "   [0.]]\n",
            "\n",
            "  [[0.]\n",
            "   [0.]\n",
            "   [0.]\n",
            "   ...\n",
            "   [0.]\n",
            "   [0.]\n",
            "   [0.]]\n",
            "\n",
            "  ...\n",
            "\n",
            "  [[0.]\n",
            "   [0.]\n",
            "   [0.]\n",
            "   ...\n",
            "   [0.]\n",
            "   [0.]\n",
            "   [0.]]\n",
            "\n",
            "  [[0.]\n",
            "   [0.]\n",
            "   [0.]\n",
            "   ...\n",
            "   [0.]\n",
            "   [0.]\n",
            "   [0.]]\n",
            "\n",
            "  [[0.]\n",
            "   [0.]\n",
            "   [0.]\n",
            "   ...\n",
            "   [0.]\n",
            "   [0.]\n",
            "   [0.]]]\n",
            "\n",
            "\n",
            " [[[0.]\n",
            "   [0.]\n",
            "   [0.]\n",
            "   ...\n",
            "   [0.]\n",
            "   [0.]\n",
            "   [0.]]\n",
            "\n",
            "  [[0.]\n",
            "   [0.]\n",
            "   [0.]\n",
            "   ...\n",
            "   [0.]\n",
            "   [0.]\n",
            "   [0.]]\n",
            "\n",
            "  [[0.]\n",
            "   [0.]\n",
            "   [0.]\n",
            "   ...\n",
            "   [0.]\n",
            "   [0.]\n",
            "   [0.]]\n",
            "\n",
            "  ...\n",
            "\n",
            "  [[0.]\n",
            "   [0.]\n",
            "   [0.]\n",
            "   ...\n",
            "   [0.]\n",
            "   [0.]\n",
            "   [0.]]\n",
            "\n",
            "  [[0.]\n",
            "   [0.]\n",
            "   [0.]\n",
            "   ...\n",
            "   [0.]\n",
            "   [0.]\n",
            "   [0.]]\n",
            "\n",
            "  [[0.]\n",
            "   [0.]\n",
            "   [0.]\n",
            "   ...\n",
            "   [0.]\n",
            "   [0.]\n",
            "   [0.]]]\n",
            "\n",
            "\n",
            " [[[0.]\n",
            "   [0.]\n",
            "   [0.]\n",
            "   ...\n",
            "   [0.]\n",
            "   [0.]\n",
            "   [0.]]\n",
            "\n",
            "  [[0.]\n",
            "   [0.]\n",
            "   [0.]\n",
            "   ...\n",
            "   [0.]\n",
            "   [0.]\n",
            "   [0.]]\n",
            "\n",
            "  [[0.]\n",
            "   [0.]\n",
            "   [0.]\n",
            "   ...\n",
            "   [0.]\n",
            "   [0.]\n",
            "   [0.]]\n",
            "\n",
            "  ...\n",
            "\n",
            "  [[0.]\n",
            "   [0.]\n",
            "   [0.]\n",
            "   ...\n",
            "   [0.]\n",
            "   [0.]\n",
            "   [0.]]\n",
            "\n",
            "  [[0.]\n",
            "   [0.]\n",
            "   [0.]\n",
            "   ...\n",
            "   [0.]\n",
            "   [0.]\n",
            "   [0.]]\n",
            "\n",
            "  [[0.]\n",
            "   [0.]\n",
            "   [0.]\n",
            "   ...\n",
            "   [0.]\n",
            "   [0.]\n",
            "   [0.]]]]\n"
          ],
          "name": "stdout"
        }
      ]
    },
    {
      "cell_type": "markdown",
      "metadata": {
        "id": "VjzP53TwBU18"
      },
      "source": [
        "## **Step 4.2: Represent Validation Data into Machine Understandable Format**\n"
      ]
    },
    {
      "cell_type": "markdown",
      "metadata": {
        "id": "YNjydMqKBW30"
      },
      "source": [
        "### **Step 4.2.1: Convert Resized Grayscale Cell Images in Validation Data into Numpy Array**\n"
      ]
    },
    {
      "cell_type": "code",
      "metadata": {
        "colab": {
          "base_uri": "https://localhost:8080/"
        },
        "id": "07v-TetmDHVA",
        "outputId": "6db69016-1f5b-4a4c-d3a6-db2002838e06"
      },
      "source": [
        "resized_validation_data = np.array(resized_validation_data)\n",
        "print(resized_validation_data.shape)"
      ],
      "execution_count": null,
      "outputs": [
        {
          "output_type": "stream",
          "text": [
            "(8, 224, 224, 1)\n"
          ],
          "name": "stdout"
        }
      ]
    },
    {
      "cell_type": "markdown",
      "metadata": {
        "id": "CzLY3fKIBZMR"
      },
      "source": [
        "### **Step 4.2.2: Nomalize Numpy Array of Grayscale Cell Images in Validation Data**\n"
      ]
    },
    {
      "cell_type": "code",
      "metadata": {
        "colab": {
          "base_uri": "https://localhost:8080/"
        },
        "id": "f2d4tsyADjnO",
        "outputId": "b05e8812-35e0-4f4e-b6c0-beb4bb991691"
      },
      "source": [
        "normalized_validation_data =resized_validation_data/255\n",
        "preprocessed_validation_data = normalized_validation_data.reshape(-1,img_width,img_height,1)\n",
        "print(preprocessed_validation_data)"
      ],
      "execution_count": null,
      "outputs": [
        {
          "output_type": "stream",
          "text": [
            "[[[[0.]\n",
            "   [0.]\n",
            "   [0.]\n",
            "   ...\n",
            "   [0.]\n",
            "   [0.]\n",
            "   [0.]]\n",
            "\n",
            "  [[0.]\n",
            "   [0.]\n",
            "   [0.]\n",
            "   ...\n",
            "   [0.]\n",
            "   [0.]\n",
            "   [0.]]\n",
            "\n",
            "  [[0.]\n",
            "   [0.]\n",
            "   [0.]\n",
            "   ...\n",
            "   [0.]\n",
            "   [0.]\n",
            "   [0.]]\n",
            "\n",
            "  ...\n",
            "\n",
            "  [[0.]\n",
            "   [0.]\n",
            "   [0.]\n",
            "   ...\n",
            "   [0.]\n",
            "   [0.]\n",
            "   [0.]]\n",
            "\n",
            "  [[0.]\n",
            "   [0.]\n",
            "   [0.]\n",
            "   ...\n",
            "   [0.]\n",
            "   [0.]\n",
            "   [0.]]\n",
            "\n",
            "  [[0.]\n",
            "   [0.]\n",
            "   [0.]\n",
            "   ...\n",
            "   [0.]\n",
            "   [0.]\n",
            "   [0.]]]\n",
            "\n",
            "\n",
            " [[[0.]\n",
            "   [0.]\n",
            "   [0.]\n",
            "   ...\n",
            "   [0.]\n",
            "   [0.]\n",
            "   [0.]]\n",
            "\n",
            "  [[0.]\n",
            "   [0.]\n",
            "   [0.]\n",
            "   ...\n",
            "   [0.]\n",
            "   [0.]\n",
            "   [0.]]\n",
            "\n",
            "  [[0.]\n",
            "   [0.]\n",
            "   [0.]\n",
            "   ...\n",
            "   [0.]\n",
            "   [0.]\n",
            "   [0.]]\n",
            "\n",
            "  ...\n",
            "\n",
            "  [[0.]\n",
            "   [0.]\n",
            "   [0.]\n",
            "   ...\n",
            "   [0.]\n",
            "   [0.]\n",
            "   [0.]]\n",
            "\n",
            "  [[0.]\n",
            "   [0.]\n",
            "   [0.]\n",
            "   ...\n",
            "   [0.]\n",
            "   [0.]\n",
            "   [0.]]\n",
            "\n",
            "  [[0.]\n",
            "   [0.]\n",
            "   [0.]\n",
            "   ...\n",
            "   [0.]\n",
            "   [0.]\n",
            "   [0.]]]\n",
            "\n",
            "\n",
            " [[[0.]\n",
            "   [0.]\n",
            "   [0.]\n",
            "   ...\n",
            "   [0.]\n",
            "   [0.]\n",
            "   [0.]]\n",
            "\n",
            "  [[0.]\n",
            "   [0.]\n",
            "   [0.]\n",
            "   ...\n",
            "   [0.]\n",
            "   [0.]\n",
            "   [0.]]\n",
            "\n",
            "  [[0.]\n",
            "   [0.]\n",
            "   [0.]\n",
            "   ...\n",
            "   [0.]\n",
            "   [0.]\n",
            "   [0.]]\n",
            "\n",
            "  ...\n",
            "\n",
            "  [[0.]\n",
            "   [0.]\n",
            "   [0.]\n",
            "   ...\n",
            "   [0.]\n",
            "   [0.]\n",
            "   [0.]]\n",
            "\n",
            "  [[0.]\n",
            "   [0.]\n",
            "   [0.]\n",
            "   ...\n",
            "   [0.]\n",
            "   [0.]\n",
            "   [0.]]\n",
            "\n",
            "  [[0.]\n",
            "   [0.]\n",
            "   [0.]\n",
            "   ...\n",
            "   [0.]\n",
            "   [0.]\n",
            "   [0.]]]\n",
            "\n",
            "\n",
            " ...\n",
            "\n",
            "\n",
            " [[[0.]\n",
            "   [0.]\n",
            "   [0.]\n",
            "   ...\n",
            "   [0.]\n",
            "   [0.]\n",
            "   [0.]]\n",
            "\n",
            "  [[0.]\n",
            "   [0.]\n",
            "   [0.]\n",
            "   ...\n",
            "   [0.]\n",
            "   [0.]\n",
            "   [0.]]\n",
            "\n",
            "  [[0.]\n",
            "   [0.]\n",
            "   [0.]\n",
            "   ...\n",
            "   [0.]\n",
            "   [0.]\n",
            "   [0.]]\n",
            "\n",
            "  ...\n",
            "\n",
            "  [[0.]\n",
            "   [0.]\n",
            "   [0.]\n",
            "   ...\n",
            "   [0.]\n",
            "   [0.]\n",
            "   [0.]]\n",
            "\n",
            "  [[0.]\n",
            "   [0.]\n",
            "   [0.]\n",
            "   ...\n",
            "   [0.]\n",
            "   [0.]\n",
            "   [0.]]\n",
            "\n",
            "  [[0.]\n",
            "   [0.]\n",
            "   [0.]\n",
            "   ...\n",
            "   [0.]\n",
            "   [0.]\n",
            "   [0.]]]\n",
            "\n",
            "\n",
            " [[[0.]\n",
            "   [0.]\n",
            "   [0.]\n",
            "   ...\n",
            "   [0.]\n",
            "   [0.]\n",
            "   [0.]]\n",
            "\n",
            "  [[0.]\n",
            "   [0.]\n",
            "   [0.]\n",
            "   ...\n",
            "   [0.]\n",
            "   [0.]\n",
            "   [0.]]\n",
            "\n",
            "  [[0.]\n",
            "   [0.]\n",
            "   [0.]\n",
            "   ...\n",
            "   [0.]\n",
            "   [0.]\n",
            "   [0.]]\n",
            "\n",
            "  ...\n",
            "\n",
            "  [[0.]\n",
            "   [0.]\n",
            "   [0.]\n",
            "   ...\n",
            "   [0.]\n",
            "   [0.]\n",
            "   [0.]]\n",
            "\n",
            "  [[0.]\n",
            "   [0.]\n",
            "   [0.]\n",
            "   ...\n",
            "   [0.]\n",
            "   [0.]\n",
            "   [0.]]\n",
            "\n",
            "  [[0.]\n",
            "   [0.]\n",
            "   [0.]\n",
            "   ...\n",
            "   [0.]\n",
            "   [0.]\n",
            "   [0.]]]\n",
            "\n",
            "\n",
            " [[[0.]\n",
            "   [0.]\n",
            "   [0.]\n",
            "   ...\n",
            "   [0.]\n",
            "   [0.]\n",
            "   [0.]]\n",
            "\n",
            "  [[0.]\n",
            "   [0.]\n",
            "   [0.]\n",
            "   ...\n",
            "   [0.]\n",
            "   [0.]\n",
            "   [0.]]\n",
            "\n",
            "  [[0.]\n",
            "   [0.]\n",
            "   [0.]\n",
            "   ...\n",
            "   [0.]\n",
            "   [0.]\n",
            "   [0.]]\n",
            "\n",
            "  ...\n",
            "\n",
            "  [[0.]\n",
            "   [0.]\n",
            "   [0.]\n",
            "   ...\n",
            "   [0.]\n",
            "   [0.]\n",
            "   [0.]]\n",
            "\n",
            "  [[0.]\n",
            "   [0.]\n",
            "   [0.]\n",
            "   ...\n",
            "   [0.]\n",
            "   [0.]\n",
            "   [0.]]\n",
            "\n",
            "  [[0.]\n",
            "   [0.]\n",
            "   [0.]\n",
            "   ...\n",
            "   [0.]\n",
            "   [0.]\n",
            "   [0.]]]]\n"
          ],
          "name": "stdout"
        }
      ]
    },
    {
      "cell_type": "markdown",
      "metadata": {
        "id": "Hop7GYJGBbUM"
      },
      "source": [
        "## **Step 4.3: Represent Testing Data into Machine Understandable Format**\n"
      ]
    },
    {
      "cell_type": "markdown",
      "metadata": {
        "id": "zCY0kBW0BdGg"
      },
      "source": [
        "### **Step 4.3.1: Convert Resized Grayscale Cell Images in Testing Data into Numpy Array**\n"
      ]
    },
    {
      "cell_type": "code",
      "metadata": {
        "colab": {
          "base_uri": "https://localhost:8080/"
        },
        "id": "kbMGu6u-D6OA",
        "outputId": "4cc17b58-3091-4fa8-8de6-d1e2f03fb4c1"
      },
      "source": [
        "resized_testing_data = np.array(resized_testing_data)\n",
        "print(resized_testing_data.shape)"
      ],
      "execution_count": null,
      "outputs": [
        {
          "output_type": "stream",
          "text": [
            "(20, 224, 224, 1)\n"
          ],
          "name": "stdout"
        }
      ]
    },
    {
      "cell_type": "markdown",
      "metadata": {
        "id": "3RFAAaJ4BfjL"
      },
      "source": [
        "### **Step 4.3.2: Nomalize Numpy Array of Grayscale Cell Images in Testing Data**"
      ]
    },
    {
      "cell_type": "code",
      "metadata": {
        "colab": {
          "base_uri": "https://localhost:8080/"
        },
        "id": "N5OLcmgCD1S3",
        "outputId": "2cb5ff9e-80c4-4835-c45e-d40f88f43a5b"
      },
      "source": [
        "normalized_testing_data =resized_testing_data/255\n",
        "preprocessed_testing_data = normalized_testing_data.reshape(-1,img_width,img_height,1)\n",
        "print(preprocessed_testing_data)"
      ],
      "execution_count": null,
      "outputs": [
        {
          "output_type": "stream",
          "text": [
            "[[[[0.]\n",
            "   [0.]\n",
            "   [0.]\n",
            "   ...\n",
            "   [0.]\n",
            "   [0.]\n",
            "   [0.]]\n",
            "\n",
            "  [[0.]\n",
            "   [0.]\n",
            "   [0.]\n",
            "   ...\n",
            "   [0.]\n",
            "   [0.]\n",
            "   [0.]]\n",
            "\n",
            "  [[0.]\n",
            "   [0.]\n",
            "   [0.]\n",
            "   ...\n",
            "   [0.]\n",
            "   [0.]\n",
            "   [0.]]\n",
            "\n",
            "  ...\n",
            "\n",
            "  [[0.]\n",
            "   [0.]\n",
            "   [0.]\n",
            "   ...\n",
            "   [0.]\n",
            "   [0.]\n",
            "   [0.]]\n",
            "\n",
            "  [[0.]\n",
            "   [0.]\n",
            "   [0.]\n",
            "   ...\n",
            "   [0.]\n",
            "   [0.]\n",
            "   [0.]]\n",
            "\n",
            "  [[0.]\n",
            "   [0.]\n",
            "   [0.]\n",
            "   ...\n",
            "   [0.]\n",
            "   [0.]\n",
            "   [0.]]]\n",
            "\n",
            "\n",
            " [[[0.]\n",
            "   [0.]\n",
            "   [0.]\n",
            "   ...\n",
            "   [0.]\n",
            "   [0.]\n",
            "   [0.]]\n",
            "\n",
            "  [[0.]\n",
            "   [0.]\n",
            "   [0.]\n",
            "   ...\n",
            "   [0.]\n",
            "   [0.]\n",
            "   [0.]]\n",
            "\n",
            "  [[0.]\n",
            "   [0.]\n",
            "   [0.]\n",
            "   ...\n",
            "   [0.]\n",
            "   [0.]\n",
            "   [0.]]\n",
            "\n",
            "  ...\n",
            "\n",
            "  [[0.]\n",
            "   [0.]\n",
            "   [0.]\n",
            "   ...\n",
            "   [0.]\n",
            "   [0.]\n",
            "   [0.]]\n",
            "\n",
            "  [[0.]\n",
            "   [0.]\n",
            "   [0.]\n",
            "   ...\n",
            "   [0.]\n",
            "   [0.]\n",
            "   [0.]]\n",
            "\n",
            "  [[0.]\n",
            "   [0.]\n",
            "   [0.]\n",
            "   ...\n",
            "   [0.]\n",
            "   [0.]\n",
            "   [0.]]]\n",
            "\n",
            "\n",
            " [[[0.]\n",
            "   [0.]\n",
            "   [0.]\n",
            "   ...\n",
            "   [0.]\n",
            "   [0.]\n",
            "   [0.]]\n",
            "\n",
            "  [[0.]\n",
            "   [0.]\n",
            "   [0.]\n",
            "   ...\n",
            "   [0.]\n",
            "   [0.]\n",
            "   [0.]]\n",
            "\n",
            "  [[0.]\n",
            "   [0.]\n",
            "   [0.]\n",
            "   ...\n",
            "   [0.]\n",
            "   [0.]\n",
            "   [0.]]\n",
            "\n",
            "  ...\n",
            "\n",
            "  [[0.]\n",
            "   [0.]\n",
            "   [0.]\n",
            "   ...\n",
            "   [0.]\n",
            "   [0.]\n",
            "   [0.]]\n",
            "\n",
            "  [[0.]\n",
            "   [0.]\n",
            "   [0.]\n",
            "   ...\n",
            "   [0.]\n",
            "   [0.]\n",
            "   [0.]]\n",
            "\n",
            "  [[0.]\n",
            "   [0.]\n",
            "   [0.]\n",
            "   ...\n",
            "   [0.]\n",
            "   [0.]\n",
            "   [0.]]]\n",
            "\n",
            "\n",
            " ...\n",
            "\n",
            "\n",
            " [[[0.]\n",
            "   [0.]\n",
            "   [0.]\n",
            "   ...\n",
            "   [0.]\n",
            "   [0.]\n",
            "   [0.]]\n",
            "\n",
            "  [[0.]\n",
            "   [0.]\n",
            "   [0.]\n",
            "   ...\n",
            "   [0.]\n",
            "   [0.]\n",
            "   [0.]]\n",
            "\n",
            "  [[0.]\n",
            "   [0.]\n",
            "   [0.]\n",
            "   ...\n",
            "   [0.]\n",
            "   [0.]\n",
            "   [0.]]\n",
            "\n",
            "  ...\n",
            "\n",
            "  [[0.]\n",
            "   [0.]\n",
            "   [0.]\n",
            "   ...\n",
            "   [0.]\n",
            "   [0.]\n",
            "   [0.]]\n",
            "\n",
            "  [[0.]\n",
            "   [0.]\n",
            "   [0.]\n",
            "   ...\n",
            "   [0.]\n",
            "   [0.]\n",
            "   [0.]]\n",
            "\n",
            "  [[0.]\n",
            "   [0.]\n",
            "   [0.]\n",
            "   ...\n",
            "   [0.]\n",
            "   [0.]\n",
            "   [0.]]]\n",
            "\n",
            "\n",
            " [[[0.]\n",
            "   [0.]\n",
            "   [0.]\n",
            "   ...\n",
            "   [0.]\n",
            "   [0.]\n",
            "   [0.]]\n",
            "\n",
            "  [[0.]\n",
            "   [0.]\n",
            "   [0.]\n",
            "   ...\n",
            "   [0.]\n",
            "   [0.]\n",
            "   [0.]]\n",
            "\n",
            "  [[0.]\n",
            "   [0.]\n",
            "   [0.]\n",
            "   ...\n",
            "   [0.]\n",
            "   [0.]\n",
            "   [0.]]\n",
            "\n",
            "  ...\n",
            "\n",
            "  [[0.]\n",
            "   [0.]\n",
            "   [0.]\n",
            "   ...\n",
            "   [0.]\n",
            "   [0.]\n",
            "   [0.]]\n",
            "\n",
            "  [[0.]\n",
            "   [0.]\n",
            "   [0.]\n",
            "   ...\n",
            "   [0.]\n",
            "   [0.]\n",
            "   [0.]]\n",
            "\n",
            "  [[0.]\n",
            "   [0.]\n",
            "   [0.]\n",
            "   ...\n",
            "   [0.]\n",
            "   [0.]\n",
            "   [0.]]]\n",
            "\n",
            "\n",
            " [[[0.]\n",
            "   [0.]\n",
            "   [0.]\n",
            "   ...\n",
            "   [0.]\n",
            "   [0.]\n",
            "   [0.]]\n",
            "\n",
            "  [[0.]\n",
            "   [0.]\n",
            "   [0.]\n",
            "   ...\n",
            "   [0.]\n",
            "   [0.]\n",
            "   [0.]]\n",
            "\n",
            "  [[0.]\n",
            "   [0.]\n",
            "   [0.]\n",
            "   ...\n",
            "   [0.]\n",
            "   [0.]\n",
            "   [0.]]\n",
            "\n",
            "  ...\n",
            "\n",
            "  [[0.]\n",
            "   [0.]\n",
            "   [0.]\n",
            "   ...\n",
            "   [0.]\n",
            "   [0.]\n",
            "   [0.]]\n",
            "\n",
            "  [[0.]\n",
            "   [0.]\n",
            "   [0.]\n",
            "   ...\n",
            "   [0.]\n",
            "   [0.]\n",
            "   [0.]]\n",
            "\n",
            "  [[0.]\n",
            "   [0.]\n",
            "   [0.]\n",
            "   ...\n",
            "   [0.]\n",
            "   [0.]\n",
            "   [0.]]]]\n"
          ],
          "name": "stdout"
        }
      ]
    },
    {
      "cell_type": "markdown",
      "metadata": {
        "id": "C_nr4gGkwCy_"
      },
      "source": [
        "# **Step 5: Execute the Training Phase**"
      ]
    },
    {
      "cell_type": "markdown",
      "metadata": {
        "id": "FR2JDEq_XC1o"
      },
      "source": [
        "## **Step 5.1: Create CNN Model Architecture**"
      ]
    },
    {
      "cell_type": "code",
      "metadata": {
        "id": "otGhzqHCEvM4"
      },
      "source": [
        "model = Sequential()\n",
        "#Conv Layer 01\n",
        "model.add(Conv2D(32 , (3,3) , strides = (1,1) , padding = 'same' , activation = 'relu' , input_shape = (img_width,img_height,1)))\n",
        "model.add(BatchNormalization())\n",
        "model.add(MaxPool2D((2,2) , strides = (2,2) , padding = 'same'))\n",
        "\n",
        "#Conv Layer 02\n",
        "model.add(Conv2D(64 , (3,3) , strides = (1,1) , padding = 'same' , activation = 'relu'))\n",
        "model.add(Dropout(0.2))\n",
        "model.add(BatchNormalization())\n",
        "model.add(MaxPool2D((2,2) , strides = (2,2) , padding = 'same'))\n",
        "\n",
        "#Conv Layer 03\n",
        "model.add(Conv2D(64 , (3,3) , strides = (1,1) , padding = 'same' , activation = 'relu'))\n",
        "model.add(BatchNormalization())\n",
        "model.add(MaxPool2D((2,2) , strides = (2,2), padding = 'same'))\n",
        "\n",
        "#Conv Layer 04\n",
        "model.add(Conv2D(128 , (3,3) , strides = (1,1) , padding = 'same' , activation = 'relu'))\n",
        "model.add(Dropout(0.2))\n",
        "model.add(BatchNormalization())\n",
        "model.add(MaxPool2D((2,2) , strides = (2,2) , padding = 'same'))\n",
        "\n",
        "#Conv Layer 05\n",
        "model.add(Conv2D(256 , (3,3) , strides = (1,1), padding = 'same' , activation = 'relu'))\n",
        "model.add(Dropout(0.5))\n",
        "model.add(BatchNormalization())\n",
        "model.add(MaxPool2D((2,2) , strides = (2,2) , padding = 'same'))\n",
        "\n",
        "model.add(Flatten())\n",
        "model.add(Dense(units = 1000 , activation = 'relu'))\n",
        "model.add(Dropout(0.2))\n",
        "\n",
        "model.add(Flatten())\n",
        "model.add(Dense(units = 500 , activation = 'relu'))\n",
        "model.add(Dropout(0.5))\n",
        "\n",
        "model.add(Flatten())\n",
        "model.add(Dense(units = 250 , activation = 'relu'))\n",
        "model.add(Dropout(0.5))\n",
        "\n",
        "model.add(Dense(units = 2 , activation = 'relu'))\n"
      ],
      "execution_count": null,
      "outputs": []
    },
    {
      "cell_type": "code",
      "metadata": {
        "colab": {
          "base_uri": "https://localhost:8080/"
        },
        "id": "OBBXMBndn_Kk",
        "outputId": "2fcca941-3846-4304-c372-30e0811bf7a7"
      },
      "source": [
        "normalized_validation_label.shape[0]"
      ],
      "execution_count": null,
      "outputs": [
        {
          "output_type": "execute_result",
          "data": {
            "text/plain": [
              "8"
            ]
          },
          "metadata": {
            "tags": []
          },
          "execution_count": 38
        }
      ]
    },
    {
      "cell_type": "markdown",
      "metadata": {
        "id": "XmjGIW_TYKzN"
      },
      "source": [
        "## **Step 5.2: Hyper Parameter**"
      ]
    },
    {
      "cell_type": "markdown",
      "metadata": {
        "id": "8rNh_8MbXmcH"
      },
      "source": [
        "## **Step 5.3: Initialize Optimizer And Loss Function**\n",
        " "
      ]
    },
    {
      "cell_type": "code",
      "metadata": {
        "colab": {
          "base_uri": "https://localhost:8080/"
        },
        "id": "DB_prOa8XhxT",
        "outputId": "ac67a137-4700-43ee-8bf8-6be8f3649b73"
      },
      "source": [
        "model.compile(optimizer = \"adam\" , loss = 'binary_crossentropy' , metrics = ['accuracy'])\n",
        "model.summary()"
      ],
      "execution_count": null,
      "outputs": [
        {
          "output_type": "stream",
          "text": [
            "Model: \"sequential\"\n",
            "_________________________________________________________________\n",
            "Layer (type)                 Output Shape              Param #   \n",
            "=================================================================\n",
            "conv2d (Conv2D)              (None, 224, 224, 32)      320       \n",
            "_________________________________________________________________\n",
            "batch_normalization (BatchNo (None, 224, 224, 32)      128       \n",
            "_________________________________________________________________\n",
            "max_pooling2d (MaxPooling2D) (None, 112, 112, 32)      0         \n",
            "_________________________________________________________________\n",
            "conv2d_1 (Conv2D)            (None, 112, 112, 64)      18496     \n",
            "_________________________________________________________________\n",
            "dropout (Dropout)            (None, 112, 112, 64)      0         \n",
            "_________________________________________________________________\n",
            "batch_normalization_1 (Batch (None, 112, 112, 64)      256       \n",
            "_________________________________________________________________\n",
            "max_pooling2d_1 (MaxPooling2 (None, 56, 56, 64)        0         \n",
            "_________________________________________________________________\n",
            "conv2d_2 (Conv2D)            (None, 56, 56, 64)        36928     \n",
            "_________________________________________________________________\n",
            "batch_normalization_2 (Batch (None, 56, 56, 64)        256       \n",
            "_________________________________________________________________\n",
            "max_pooling2d_2 (MaxPooling2 (None, 28, 28, 64)        0         \n",
            "_________________________________________________________________\n",
            "conv2d_3 (Conv2D)            (None, 28, 28, 128)       73856     \n",
            "_________________________________________________________________\n",
            "dropout_1 (Dropout)          (None, 28, 28, 128)       0         \n",
            "_________________________________________________________________\n",
            "batch_normalization_3 (Batch (None, 28, 28, 128)       512       \n",
            "_________________________________________________________________\n",
            "max_pooling2d_3 (MaxPooling2 (None, 14, 14, 128)       0         \n",
            "_________________________________________________________________\n",
            "conv2d_4 (Conv2D)            (None, 14, 14, 256)       295168    \n",
            "_________________________________________________________________\n",
            "dropout_2 (Dropout)          (None, 14, 14, 256)       0         \n",
            "_________________________________________________________________\n",
            "batch_normalization_4 (Batch (None, 14, 14, 256)       1024      \n",
            "_________________________________________________________________\n",
            "max_pooling2d_4 (MaxPooling2 (None, 7, 7, 256)         0         \n",
            "_________________________________________________________________\n",
            "flatten (Flatten)            (None, 12544)             0         \n",
            "_________________________________________________________________\n",
            "dense (Dense)                (None, 1000)              12545000  \n",
            "_________________________________________________________________\n",
            "dropout_3 (Dropout)          (None, 1000)              0         \n",
            "_________________________________________________________________\n",
            "flatten_1 (Flatten)          (None, 1000)              0         \n",
            "_________________________________________________________________\n",
            "dense_1 (Dense)              (None, 500)               500500    \n",
            "_________________________________________________________________\n",
            "dropout_4 (Dropout)          (None, 500)               0         \n",
            "_________________________________________________________________\n",
            "flatten_2 (Flatten)          (None, 500)               0         \n",
            "_________________________________________________________________\n",
            "dense_2 (Dense)              (None, 250)               125250    \n",
            "_________________________________________________________________\n",
            "dropout_5 (Dropout)          (None, 250)               0         \n",
            "_________________________________________________________________\n",
            "dense_3 (Dense)              (None, 2)                 502       \n",
            "=================================================================\n",
            "Total params: 13,598,196\n",
            "Trainable params: 13,597,108\n",
            "Non-trainable params: 1,088\n",
            "_________________________________________________________________\n"
          ],
          "name": "stdout"
        }
      ]
    },
    {
      "cell_type": "markdown",
      "metadata": {
        "id": "dipzANyqX28h"
      },
      "source": [
        "## **Step 5.4: Train Model**"
      ]
    },
    {
      "cell_type": "code",
      "metadata": {
        "id": "p0J44Jj4yKn8"
      },
      "source": [
        "from keras.utils import to_categorical\n",
        "#normalized_training_label = to_categorical(normalized_training_label).astype(int)\n",
        "#normalized_validation_label = to_categorical(normalized_validation_label).astype(int)"
      ],
      "execution_count": null,
      "outputs": []
    },
    {
      "cell_type": "code",
      "metadata": {
        "id": "Zym78I203ClW"
      },
      "source": [
        "tf.config.run_functions_eagerly(True)\n"
      ],
      "execution_count": null,
      "outputs": []
    },
    {
      "cell_type": "code",
      "metadata": {
        "colab": {
          "base_uri": "https://localhost:8080/"
        },
        "id": "EQn9YuaRFT_9",
        "outputId": "714078ca-2dd0-4a08-d693-336af3d62983"
      },
      "source": [
        "history = model.fit(preprocessed_training_data, \n",
        "                    normalized_training_label, \n",
        "                    batch_size = 10,\n",
        "                    epochs = 12 , \n",
        "                    validation_data = (preprocessed_validation_data,  normalized_validation_label))"
      ],
      "execution_count": null,
      "outputs": [
        {
          "output_type": "stream",
          "text": [
            "/usr/local/lib/python3.6/dist-packages/tensorflow/python/data/ops/dataset_ops.py:3350: UserWarning: Even though the tf.config.experimental_run_functions_eagerly option is set, this option does not apply to tf.data functions. tf.data functions are still traced and executed as graphs.\n",
            "  \"Even though the tf.config.experimental_run_functions_eagerly \"\n"
          ],
          "name": "stderr"
        },
        {
          "output_type": "stream",
          "text": [
            "Epoch 1/12\n",
            "8/8 [==============================] - 0s 61ms/step - loss: 6.4849 - accuracy: 0.5417 - val_loss: 4.4957 - val_accuracy: 0.5000\n",
            "Epoch 2/12\n",
            "8/8 [==============================] - 0s 39ms/step - loss: 8.5626 - accuracy: 0.3889 - val_loss: 7.7125 - val_accuracy: 0.5000\n",
            "Epoch 3/12\n",
            "8/8 [==============================] - 0s 38ms/step - loss: 7.3857 - accuracy: 0.5417 - val_loss: 7.7125 - val_accuracy: 0.5000\n",
            "Epoch 4/12\n",
            "8/8 [==============================] - 0s 39ms/step - loss: 7.7986 - accuracy: 0.4861 - val_loss: 4.2330 - val_accuracy: 0.5000\n",
            "Epoch 5/12\n",
            "8/8 [==============================] - 0s 39ms/step - loss: 7.5850 - accuracy: 0.5139 - val_loss: 6.8872 - val_accuracy: 0.5000\n",
            "Epoch 6/12\n",
            "8/8 [==============================] - 0s 40ms/step - loss: 7.3707 - accuracy: 0.5417 - val_loss: 7.6895 - val_accuracy: 0.5000\n",
            "Epoch 7/12\n",
            "8/8 [==============================] - 0s 40ms/step - loss: 7.7973 - accuracy: 0.4861 - val_loss: 7.6895 - val_accuracy: 0.5000\n",
            "Epoch 8/12\n",
            "8/8 [==============================] - 0s 40ms/step - loss: 7.4766 - accuracy: 0.5278 - val_loss: 7.6895 - val_accuracy: 0.5000\n",
            "Epoch 9/12\n",
            "8/8 [==============================] - 0s 39ms/step - loss: 7.6902 - accuracy: 0.5000 - val_loss: 7.6895 - val_accuracy: 0.5000\n",
            "Epoch 10/12\n",
            "8/8 [==============================] - 0s 39ms/step - loss: 8.1180 - accuracy: 0.4444 - val_loss: 7.6895 - val_accuracy: 0.5000\n",
            "Epoch 11/12\n",
            "8/8 [==============================] - 0s 39ms/step - loss: 8.1180 - accuracy: 0.4444 - val_loss: 7.6895 - val_accuracy: 0.5000\n",
            "Epoch 12/12\n",
            "8/8 [==============================] - 0s 38ms/step - loss: 7.6993 - accuracy: 0.4861 - val_loss: 7.6895 - val_accuracy: 0.5000\n"
          ],
          "name": "stdout"
        }
      ]
    },
    {
      "cell_type": "markdown",
      "metadata": {
        "id": "C5xHrSUKauKg"
      },
      "source": [
        "##**Step 5.5: Calculate Number of Epoch used in your Matrix**\n",
        " Epochs = 12"
      ]
    },
    {
      "cell_type": "markdown",
      "metadata": {
        "id": "RcDENBjzadyJ"
      },
      "source": [
        "##**Step 5.6: Save Model**"
      ]
    },
    {
      "cell_type": "code",
      "metadata": {
        "id": "dasMQ_vmF9jN"
      },
      "source": [
        "#To save this model \n",
        "model.save('my_model.h5')"
      ],
      "execution_count": null,
      "outputs": []
    },
    {
      "cell_type": "markdown",
      "metadata": {
        "id": "UAKyI7bJwWgI"
      },
      "source": [
        "# **Step 6: Execute the Testing Phase**"
      ]
    },
    {
      "cell_type": "markdown",
      "metadata": {
        "id": "gKCmHDjCQ7vz"
      },
      "source": [
        "## **Step 6.1:Load Saved Model**\n",
        "\n",
        "\n"
      ]
    },
    {
      "cell_type": "code",
      "metadata": {
        "id": "R3_qkZ7jRFpp"
      },
      "source": [
        "from keras.models import load_model\n",
        "\n",
        "model = load_model('/content/my_model.h5')"
      ],
      "execution_count": null,
      "outputs": []
    },
    {
      "cell_type": "markdown",
      "metadata": {
        "id": "dAAj-WzfNpRd"
      },
      "source": [
        "##**Step 6.2:  Making Prediction**\n",
        "\n",
        "\n",
        "\n"
      ]
    },
    {
      "cell_type": "code",
      "metadata": {
        "colab": {
          "base_uri": "https://localhost:8080/"
        },
        "id": "_LilJAHfVHKs",
        "outputId": "a4776673-32ed-46c2-e546-94d2ad76ac9e"
      },
      "source": [
        "prediction = model.predict(preprocessed_testing_data)\n",
        "print(prediction)"
      ],
      "execution_count": null,
      "outputs": [
        {
          "output_type": "stream",
          "text": [
            "[[0.        4.8814726]\n",
            " [0.        5.0103474]\n",
            " [0.        5.0272155]\n",
            " [0.        4.486764 ]\n",
            " [0.        4.9888344]\n",
            " [0.        4.29341  ]\n",
            " [0.        4.578637 ]\n",
            " [0.        4.5445046]\n",
            " [0.        4.4847746]\n",
            " [0.        4.234986 ]\n",
            " [0.        4.6853323]\n",
            " [0.        4.499746 ]\n",
            " [0.        4.68492  ]\n",
            " [0.        5.1124125]\n",
            " [0.        5.0795865]\n",
            " [0.        4.6113544]\n",
            " [0.        5.105543 ]\n",
            " [0.        4.5953197]\n",
            " [0.        5.0584044]\n",
            " [0.        4.4741597]]\n"
          ],
          "name": "stdout"
        },
        {
          "output_type": "stream",
          "text": [
            "/usr/local/lib/python3.6/dist-packages/tensorflow/python/data/ops/dataset_ops.py:3350: UserWarning: Even though the tf.config.experimental_run_functions_eagerly option is set, this option does not apply to tf.data functions. tf.data functions are still traced and executed as graphs.\n",
            "  \"Even though the tf.config.experimental_run_functions_eagerly \"\n"
          ],
          "name": "stderr"
        }
      ]
    },
    {
      "cell_type": "markdown",
      "metadata": {
        "id": "XPfwoCt-NY-H"
      },
      "source": [
        "## **Step: 6.3: Evaluate Performance** "
      ]
    },
    {
      "cell_type": "markdown",
      "metadata": {
        "id": "bHp21ZqdcpuN"
      },
      "source": [
        "### **Step: 6.3.1: Calculate Accuracy**"
      ]
    },
    {
      "cell_type": "code",
      "metadata": {
        "colab": {
          "base_uri": "https://localhost:8080/"
        },
        "id": "rBDlfuA3NA07",
        "outputId": "8d58c7bd-deab-48b2-f912-36c017055e1a"
      },
      "source": [
        "# Showing loss and Accuracy of Model\\n\",\n",
        "print(\"Loss of the model is - \" , model.evaluate(preprocessed_testing_data,normalized_testing_label)[0])\n",
        "print(\"Accuracy of the model is - \" , model.evaluate(preprocessed_testing_data,normalized_testing_label)[1]*100 , \"%\")"
      ],
      "execution_count": null,
      "outputs": [
        {
          "output_type": "stream",
          "text": [
            "1/1 [==============================] - 0s 2ms/step - loss: 7.6895 - accuracy: 0.0000e+00\n",
            "Loss of the model is -  7.689547061920166\n",
            "1/1 [==============================] - 0s 1ms/step - loss: 7.6895 - accuracy: 0.0000e+00\n",
            "Accuracy of the model is -  0.0 %\n"
          ],
          "name": "stdout"
        },
        {
          "output_type": "stream",
          "text": [
            "/usr/local/lib/python3.6/dist-packages/tensorflow/python/data/ops/dataset_ops.py:3350: UserWarning: Even though the tf.config.experimental_run_functions_eagerly option is set, this option does not apply to tf.data functions. tf.data functions are still traced and executed as graphs.\n",
            "  \"Even though the tf.config.experimental_run_functions_eagerly \"\n"
          ],
          "name": "stderr"
        }
      ]
    },
    {
      "cell_type": "markdown",
      "metadata": {
        "id": "6CWIf2XwdBom"
      },
      "source": [
        "###\t**Step 6.3.2: Draw Confusion Matrix**"
      ]
    },
    {
      "cell_type": "code",
      "metadata": {
        "id": "EZTw1MJgfsLh"
      },
      "source": [
        "\"\"\"\n",
        "    given a sklearn confusion matrix (cm), make a nice plot\n",
        "\n",
        "    Arguments\n",
        "    ---------\n",
        "    cm:           confusion matrix from sklearn.metrics.confusion_matrix\n",
        "\n",
        "    target_names: given classification classes such as [0, 1, 2]\n",
        "                  the class names, for example: ['high', 'medium', 'low']\n",
        "\n",
        "    title:        the text to display at the top of the matrix\n",
        "\n",
        "    cmap:         the gradient of the values displayed from matplotlib.pyplot.cm\n",
        "                  see http://matplotlib.org/examples/color/colormaps_reference.html\n",
        "                  plt.get_cmap('jet') or plt.cm.Blues\n",
        "\n",
        "    normalize:    If False, plot the raw numbers\n",
        "                  If True, plot the proportions\n",
        "\n",
        "    Usage\n",
        "    -----\n",
        "    \n",
        "    plot_confusion_matrix(cm           = cm,                  # confusion matrix created by\n",
        "                                                              # sklearn.metrics.confusion_matrix\n",
        "                          normalize    = True,                # show proportions\n",
        "                          target_names = y_labels_vals,       # list of names of the classes\n",
        "                          title        = best_estimator_name) # title of graph\n",
        "\n",
        "    Citiation\n",
        "    ---------\n",
        "    http://scikit-learn.org/stable/auto_examples/model_selection/plot_confusion_matrix.html\n",
        "\n",
        "    \"\"\"\n",
        "\n",
        "def confusion_matrix(cm,\n",
        "                          labels,\n",
        "                          title='Confusion matrix',\n",
        "                          cmap=None,\n",
        "                          normalize=True):\n",
        "  \n",
        "    accuracy = np.trace(cm) / float(np.sum(cm))\n",
        "    misclass = 1 - accuracy\n",
        "\n",
        "    if cmap is None:\n",
        "        cmap = plt.get_cmap('Blues')\n",
        "\n",
        "    plt.figure(figsize=(8, 6))\n",
        "    plt.imshow(cm, interpolation='nearest', cmap=cmap)\n",
        "    plt.title(title)\n",
        "    plt.colorbar()\n",
        "\n",
        "    if labels is not None:\n",
        "        tick_marks = np.arange(len(labels))\n",
        "        plt.xticks(tick_marks, labels, rotation=45)\n",
        "        plt.yticks(tick_marks, labels)\n",
        "\n",
        "    if normalize:\n",
        "        cm = cm.astype('float') / cm.sum(axis=1)[:, np.newaxis]\n",
        "\n",
        "\n",
        "    thresh = cm.max() / 1.5 if normalize else cm.max() / 2\n",
        "    for i, j in itertools.product(range(cm.shape[0]), range(cm.shape[1])):\n",
        "        if normalize:\n",
        "            plt.text(j, i, \"{:0.4f}\".format(cm[i, j]),\n",
        "                     horizontalalignment=\"center\",\n",
        "                     color=\"white\" if cm[i, j] > thresh else \"black\")\n",
        "        else:\n",
        "            plt.text(j, i, \"{:,}\".format(cm[i, j]),\n",
        "                     verticalalignment=\"center\",\n",
        "                     color=\"white\" if cm[i, j] > thresh else \"black\")\n",
        "\n",
        "\n",
        "    plt.tight_layout()\n",
        "    plt.ylabel('True label')\n",
        "    plt.xlabel('Predicted label\\naccuracy={:0.4f}; misclass={:0.4f}'.format(accuracy, misclass))\n",
        "    plt.show()"
      ],
      "execution_count": null,
      "outputs": []
    },
    {
      "cell_type": "code",
      "metadata": {
        "colab": {
          "base_uri": "https://localhost:8080/",
          "height": 340
        },
        "id": "qHh5zA2apNL5",
        "outputId": "98f0a8b4-a1c5-4803-9565-8ef64f942579"
      },
      "source": [
        "confusion_matrix(normalized_testing_label, prediction, labels==['Parasitized','Uninfected'])"
      ],
      "execution_count": null,
      "outputs": [
        {
          "output_type": "error",
          "ename": "ValueError",
          "evalue": "ignored",
          "traceback": [
            "\u001b[0;31m---------------------------------------------------------------------------\u001b[0m",
            "\u001b[0;31mValueError\u001b[0m                                Traceback (most recent call last)",
            "\u001b[0;32m<ipython-input-48-c82d2880eff8>\u001b[0m in \u001b[0;36m<module>\u001b[0;34m()\u001b[0m\n\u001b[0;32m----> 1\u001b[0;31m \u001b[0mconfusion_matrix\u001b[0m\u001b[0;34m(\u001b[0m\u001b[0mnormalized_testing_label\u001b[0m\u001b[0;34m,\u001b[0m \u001b[0mprediction\u001b[0m\u001b[0;34m,\u001b[0m \u001b[0mlabels\u001b[0m\u001b[0;34m==\u001b[0m\u001b[0;34m[\u001b[0m\u001b[0;34m'Parasitized'\u001b[0m\u001b[0;34m,\u001b[0m\u001b[0;34m'Uninfected'\u001b[0m\u001b[0;34m]\u001b[0m\u001b[0;34m)\u001b[0m\u001b[0;34m\u001b[0m\u001b[0;34m\u001b[0m\u001b[0m\n\u001b[0m",
            "\u001b[0;32m<ipython-input-47-23a1fc98606f>\u001b[0m in \u001b[0;36mconfusion_matrix\u001b[0;34m(cm, labels, title, cmap, normalize)\u001b[0m\n\u001b[1;32m     39\u001b[0m                           normalize=True):\n\u001b[1;32m     40\u001b[0m \u001b[0;34m\u001b[0m\u001b[0m\n\u001b[0;32m---> 41\u001b[0;31m     \u001b[0maccuracy\u001b[0m \u001b[0;34m=\u001b[0m \u001b[0mnp\u001b[0m\u001b[0;34m.\u001b[0m\u001b[0mtrace\u001b[0m\u001b[0;34m(\u001b[0m\u001b[0mcm\u001b[0m\u001b[0;34m)\u001b[0m \u001b[0;34m/\u001b[0m \u001b[0mfloat\u001b[0m\u001b[0;34m(\u001b[0m\u001b[0mnp\u001b[0m\u001b[0;34m.\u001b[0m\u001b[0msum\u001b[0m\u001b[0;34m(\u001b[0m\u001b[0mcm\u001b[0m\u001b[0;34m)\u001b[0m\u001b[0;34m)\u001b[0m\u001b[0;34m\u001b[0m\u001b[0;34m\u001b[0m\u001b[0m\n\u001b[0m\u001b[1;32m     42\u001b[0m     \u001b[0mmisclass\u001b[0m \u001b[0;34m=\u001b[0m \u001b[0;36m1\u001b[0m \u001b[0;34m-\u001b[0m \u001b[0maccuracy\u001b[0m\u001b[0;34m\u001b[0m\u001b[0;34m\u001b[0m\u001b[0m\n\u001b[1;32m     43\u001b[0m \u001b[0;34m\u001b[0m\u001b[0m\n",
            "\u001b[0;32m<__array_function__ internals>\u001b[0m in \u001b[0;36mtrace\u001b[0;34m(*args, **kwargs)\u001b[0m\n",
            "\u001b[0;32m/usr/local/lib/python3.6/dist-packages/numpy/core/fromnumeric.py\u001b[0m in \u001b[0;36mtrace\u001b[0;34m(a, offset, axis1, axis2, dtype, out)\u001b[0m\n\u001b[1;32m   1684\u001b[0m         \u001b[0;32mreturn\u001b[0m \u001b[0masarray\u001b[0m\u001b[0;34m(\u001b[0m\u001b[0ma\u001b[0m\u001b[0;34m)\u001b[0m\u001b[0;34m.\u001b[0m\u001b[0mtrace\u001b[0m\u001b[0;34m(\u001b[0m\u001b[0moffset\u001b[0m\u001b[0;34m=\u001b[0m\u001b[0moffset\u001b[0m\u001b[0;34m,\u001b[0m \u001b[0maxis1\u001b[0m\u001b[0;34m=\u001b[0m\u001b[0maxis1\u001b[0m\u001b[0;34m,\u001b[0m \u001b[0maxis2\u001b[0m\u001b[0;34m=\u001b[0m\u001b[0maxis2\u001b[0m\u001b[0;34m,\u001b[0m \u001b[0mdtype\u001b[0m\u001b[0;34m=\u001b[0m\u001b[0mdtype\u001b[0m\u001b[0;34m,\u001b[0m \u001b[0mout\u001b[0m\u001b[0;34m=\u001b[0m\u001b[0mout\u001b[0m\u001b[0;34m)\u001b[0m\u001b[0;34m\u001b[0m\u001b[0;34m\u001b[0m\u001b[0m\n\u001b[1;32m   1685\u001b[0m     \u001b[0;32melse\u001b[0m\u001b[0;34m:\u001b[0m\u001b[0;34m\u001b[0m\u001b[0;34m\u001b[0m\u001b[0m\n\u001b[0;32m-> 1686\u001b[0;31m         \u001b[0;32mreturn\u001b[0m \u001b[0masanyarray\u001b[0m\u001b[0;34m(\u001b[0m\u001b[0ma\u001b[0m\u001b[0;34m)\u001b[0m\u001b[0;34m.\u001b[0m\u001b[0mtrace\u001b[0m\u001b[0;34m(\u001b[0m\u001b[0moffset\u001b[0m\u001b[0;34m=\u001b[0m\u001b[0moffset\u001b[0m\u001b[0;34m,\u001b[0m \u001b[0maxis1\u001b[0m\u001b[0;34m=\u001b[0m\u001b[0maxis1\u001b[0m\u001b[0;34m,\u001b[0m \u001b[0maxis2\u001b[0m\u001b[0;34m=\u001b[0m\u001b[0maxis2\u001b[0m\u001b[0;34m,\u001b[0m \u001b[0mdtype\u001b[0m\u001b[0;34m=\u001b[0m\u001b[0mdtype\u001b[0m\u001b[0;34m,\u001b[0m \u001b[0mout\u001b[0m\u001b[0;34m=\u001b[0m\u001b[0mout\u001b[0m\u001b[0;34m)\u001b[0m\u001b[0;34m\u001b[0m\u001b[0;34m\u001b[0m\u001b[0m\n\u001b[0m\u001b[1;32m   1687\u001b[0m \u001b[0;34m\u001b[0m\u001b[0m\n\u001b[1;32m   1688\u001b[0m \u001b[0;34m\u001b[0m\u001b[0m\n",
            "\u001b[0;31mValueError\u001b[0m: diag requires an array of at least two dimensions"
          ]
        }
      ]
    },
    {
      "cell_type": "code",
      "metadata": {
        "id": "yyXt-q_rVa2r"
      },
      "source": [
        "def plot_confusion_matrix(y_true, y_pred, label,\n",
        "                          normalize=False,\n",
        "                          title=None,\n",
        "                          cmap=plt.cm.Blues):\n",
        "    \"\"\"\n",
        "    Refer to: https://scikit-learn.org/stable/auto_examples/model_selection/plot_confusion_matrix.html\n",
        "    \n",
        "    This function prints and plots the confusion matrix.\n",
        "    Normalization can be applied by setting `normalize=True`.\n",
        "    \"\"\"\n",
        "    if not title:\n",
        "        if normalize:\n",
        "            title = 'Normalized confusion matrix'\n",
        "        else:\n",
        "            title = 'Confusion matrix, without normalization'\n",
        "\n",
        "    # Compute confusion matrix\n",
        "    cm = confusion_matrix(y_true, y_pred,label)\n",
        "    # Only use the labels that appear in the data\n",
        "    label = label[unique_labels(y_true, y_pred)]\n",
        "    if normalize:\n",
        "        cm = cm.astype('float') / cm.sum(axis=1)[:, np.newaxis]\n",
        "        print(\"Normalized confusion matrix\")\n",
        "    else:\n",
        "        print('Confusion matrix, without normalization')\n",
        "\n",
        "    print(cm)\n",
        "\n",
        "    fig, ax = plt.subplots(figsize=(10, 10))\n",
        "    im = ax.imshow(cm, interpolation='nearest', cmap=cmap)\n",
        "    tick_marks = np.arange(len(label))\n",
        "    plt.xticks(tick_marks, fontsize=25)\n",
        "    plt.yticks(tick_marks, fontsize=25)\n",
        "    plt.xlabel('Predicted label',fontsize=25)\n",
        "    plt.ylabel('True label', fontsize=25)\n",
        "    plt.title(title, fontsize=30)\n",
        "    \n",
        "    divider = make_axes_locatable(ax)\n",
        "    cax = divider.append_axes('right', size=\"5%\", pad=0.15)\n",
        "    cbar = ax.figure.colorbar(im, ax=ax, cax=cax)\n",
        "    cbar.ax.tick_params(labelsize=20)\n",
        "    \n",
        "    # We want to show all ticks...\n",
        "    ax.set(xticks=np.arange(cm.shape[1]),\n",
        "           yticks=np.arange(cm.shape[0]),\n",
        "           # ... and label them with the respective list entries\n",
        "           xticklabels=classes, yticklabels=classes,\n",
        "#            title=title,\n",
        "           ylabel='True label',\n",
        "           xlabel='Predicted label')\n",
        "\n",
        "    # Rotate the tick labels and set their alignment.\n",
        "    plt.setp(ax.get_xticklabels(), ha=\"right\",\n",
        "             rotation_mode=\"anchor\")\n",
        "\n",
        "    # Loop over data dimensions and create text annotations.\n",
        "    fmt = '.2f' if normalize else 'd'\n",
        "    thresh = cm.max() / 2.\n",
        "    for i in range(cm.shape[0]):\n",
        "        for j in range(cm.shape[1]):\n",
        "            ax.text(j, i, format(cm[i, j], fmt),\n",
        "                    fontsize=20,\n",
        "                    horizontalalignment=\"center\", \n",
        "                    verticalalignment=\"center\",\n",
        "                    color=\"white\" if cm[i, j] > thresh else \"black\")\n",
        "    fig.tight_layout()\n",
        "    return ax"
      ],
      "execution_count": null,
      "outputs": []
    },
    {
      "cell_type": "code",
      "metadata": {
        "colab": {
          "base_uri": "https://localhost:8080/",
          "height": 374
        },
        "id": "nnSJVpYOWtCo",
        "outputId": "bbf050d7-4492-4a9d-9260-225665e851d8"
      },
      "source": [
        "plot_confusion_matrix(normalized_testing_label, prediction, \n",
        "                      label=['Parasitized','Uninfected'],\n",
        "                      normalize=True,\n",
        "                      title='Confusion matrix')"
      ],
      "execution_count": null,
      "outputs": [
        {
          "output_type": "error",
          "ename": "ValueError",
          "evalue": "ignored",
          "traceback": [
            "\u001b[0;31m---------------------------------------------------------------------------\u001b[0m",
            "\u001b[0;31mValueError\u001b[0m                                Traceback (most recent call last)",
            "\u001b[0;32m<ipython-input-50-bf51d290498f>\u001b[0m in \u001b[0;36m<module>\u001b[0;34m()\u001b[0m\n\u001b[1;32m      2\u001b[0m                       \u001b[0mlabel\u001b[0m\u001b[0;34m=\u001b[0m\u001b[0;34m[\u001b[0m\u001b[0;34m'Parasitized'\u001b[0m\u001b[0;34m,\u001b[0m\u001b[0;34m'Uninfected'\u001b[0m\u001b[0;34m]\u001b[0m\u001b[0;34m,\u001b[0m\u001b[0;34m\u001b[0m\u001b[0;34m\u001b[0m\u001b[0m\n\u001b[1;32m      3\u001b[0m                       \u001b[0mnormalize\u001b[0m\u001b[0;34m=\u001b[0m\u001b[0;32mTrue\u001b[0m\u001b[0;34m,\u001b[0m\u001b[0;34m\u001b[0m\u001b[0;34m\u001b[0m\u001b[0m\n\u001b[0;32m----> 4\u001b[0;31m                       title='Confusion matrix')\n\u001b[0m",
            "\u001b[0;32m<ipython-input-49-64169739cf84>\u001b[0m in \u001b[0;36mplot_confusion_matrix\u001b[0;34m(y_true, y_pred, label, normalize, title, cmap)\u001b[0m\n\u001b[1;32m     16\u001b[0m \u001b[0;34m\u001b[0m\u001b[0m\n\u001b[1;32m     17\u001b[0m     \u001b[0;31m# Compute confusion matrix\u001b[0m\u001b[0;34m\u001b[0m\u001b[0;34m\u001b[0m\u001b[0;34m\u001b[0m\u001b[0m\n\u001b[0;32m---> 18\u001b[0;31m     \u001b[0mcm\u001b[0m \u001b[0;34m=\u001b[0m \u001b[0mconfusion_matrix\u001b[0m\u001b[0;34m(\u001b[0m\u001b[0my_true\u001b[0m\u001b[0;34m,\u001b[0m \u001b[0my_pred\u001b[0m\u001b[0;34m,\u001b[0m\u001b[0mlabel\u001b[0m\u001b[0;34m)\u001b[0m\u001b[0;34m\u001b[0m\u001b[0;34m\u001b[0m\u001b[0m\n\u001b[0m\u001b[1;32m     19\u001b[0m     \u001b[0;31m# Only use the labels that appear in the data\u001b[0m\u001b[0;34m\u001b[0m\u001b[0;34m\u001b[0m\u001b[0;34m\u001b[0m\u001b[0m\n\u001b[1;32m     20\u001b[0m     \u001b[0mlabel\u001b[0m \u001b[0;34m=\u001b[0m \u001b[0mlabel\u001b[0m\u001b[0;34m[\u001b[0m\u001b[0munique_labels\u001b[0m\u001b[0;34m(\u001b[0m\u001b[0my_true\u001b[0m\u001b[0;34m,\u001b[0m \u001b[0my_pred\u001b[0m\u001b[0;34m)\u001b[0m\u001b[0;34m]\u001b[0m\u001b[0;34m\u001b[0m\u001b[0;34m\u001b[0m\u001b[0m\n",
            "\u001b[0;32m<ipython-input-47-23a1fc98606f>\u001b[0m in \u001b[0;36mconfusion_matrix\u001b[0;34m(cm, labels, title, cmap, normalize)\u001b[0m\n\u001b[1;32m     39\u001b[0m                           normalize=True):\n\u001b[1;32m     40\u001b[0m \u001b[0;34m\u001b[0m\u001b[0m\n\u001b[0;32m---> 41\u001b[0;31m     \u001b[0maccuracy\u001b[0m \u001b[0;34m=\u001b[0m \u001b[0mnp\u001b[0m\u001b[0;34m.\u001b[0m\u001b[0mtrace\u001b[0m\u001b[0;34m(\u001b[0m\u001b[0mcm\u001b[0m\u001b[0;34m)\u001b[0m \u001b[0;34m/\u001b[0m \u001b[0mfloat\u001b[0m\u001b[0;34m(\u001b[0m\u001b[0mnp\u001b[0m\u001b[0;34m.\u001b[0m\u001b[0msum\u001b[0m\u001b[0;34m(\u001b[0m\u001b[0mcm\u001b[0m\u001b[0;34m)\u001b[0m\u001b[0;34m)\u001b[0m\u001b[0;34m\u001b[0m\u001b[0;34m\u001b[0m\u001b[0m\n\u001b[0m\u001b[1;32m     42\u001b[0m     \u001b[0mmisclass\u001b[0m \u001b[0;34m=\u001b[0m \u001b[0;36m1\u001b[0m \u001b[0;34m-\u001b[0m \u001b[0maccuracy\u001b[0m\u001b[0;34m\u001b[0m\u001b[0;34m\u001b[0m\u001b[0m\n\u001b[1;32m     43\u001b[0m \u001b[0;34m\u001b[0m\u001b[0m\n",
            "\u001b[0;32m<__array_function__ internals>\u001b[0m in \u001b[0;36mtrace\u001b[0;34m(*args, **kwargs)\u001b[0m\n",
            "\u001b[0;32m/usr/local/lib/python3.6/dist-packages/numpy/core/fromnumeric.py\u001b[0m in \u001b[0;36mtrace\u001b[0;34m(a, offset, axis1, axis2, dtype, out)\u001b[0m\n\u001b[1;32m   1684\u001b[0m         \u001b[0;32mreturn\u001b[0m \u001b[0masarray\u001b[0m\u001b[0;34m(\u001b[0m\u001b[0ma\u001b[0m\u001b[0;34m)\u001b[0m\u001b[0;34m.\u001b[0m\u001b[0mtrace\u001b[0m\u001b[0;34m(\u001b[0m\u001b[0moffset\u001b[0m\u001b[0;34m=\u001b[0m\u001b[0moffset\u001b[0m\u001b[0;34m,\u001b[0m \u001b[0maxis1\u001b[0m\u001b[0;34m=\u001b[0m\u001b[0maxis1\u001b[0m\u001b[0;34m,\u001b[0m \u001b[0maxis2\u001b[0m\u001b[0;34m=\u001b[0m\u001b[0maxis2\u001b[0m\u001b[0;34m,\u001b[0m \u001b[0mdtype\u001b[0m\u001b[0;34m=\u001b[0m\u001b[0mdtype\u001b[0m\u001b[0;34m,\u001b[0m \u001b[0mout\u001b[0m\u001b[0;34m=\u001b[0m\u001b[0mout\u001b[0m\u001b[0;34m)\u001b[0m\u001b[0;34m\u001b[0m\u001b[0;34m\u001b[0m\u001b[0m\n\u001b[1;32m   1685\u001b[0m     \u001b[0;32melse\u001b[0m\u001b[0;34m:\u001b[0m\u001b[0;34m\u001b[0m\u001b[0;34m\u001b[0m\u001b[0m\n\u001b[0;32m-> 1686\u001b[0;31m         \u001b[0;32mreturn\u001b[0m \u001b[0masanyarray\u001b[0m\u001b[0;34m(\u001b[0m\u001b[0ma\u001b[0m\u001b[0;34m)\u001b[0m\u001b[0;34m.\u001b[0m\u001b[0mtrace\u001b[0m\u001b[0;34m(\u001b[0m\u001b[0moffset\u001b[0m\u001b[0;34m=\u001b[0m\u001b[0moffset\u001b[0m\u001b[0;34m,\u001b[0m \u001b[0maxis1\u001b[0m\u001b[0;34m=\u001b[0m\u001b[0maxis1\u001b[0m\u001b[0;34m,\u001b[0m \u001b[0maxis2\u001b[0m\u001b[0;34m=\u001b[0m\u001b[0maxis2\u001b[0m\u001b[0;34m,\u001b[0m \u001b[0mdtype\u001b[0m\u001b[0;34m=\u001b[0m\u001b[0mdtype\u001b[0m\u001b[0;34m,\u001b[0m \u001b[0mout\u001b[0m\u001b[0;34m=\u001b[0m\u001b[0mout\u001b[0m\u001b[0;34m)\u001b[0m\u001b[0;34m\u001b[0m\u001b[0;34m\u001b[0m\u001b[0m\n\u001b[0m\u001b[1;32m   1687\u001b[0m \u001b[0;34m\u001b[0m\u001b[0m\n\u001b[1;32m   1688\u001b[0m \u001b[0;34m\u001b[0m\u001b[0m\n",
            "\u001b[0;31mValueError\u001b[0m: diag requires an array of at least two dimensions"
          ]
        }
      ]
    },
    {
      "cell_type": "code",
      "metadata": {
        "id": "YSwfyBUsks8c"
      },
      "source": [
        "def confusion_matrix(yt, yp, labels):\n",
        "    \n",
        "    instcount = yt.shape[0]\n",
        "    n_classes = len(labels)\n",
        "    fp = ((yt - yp) < 0).sum(axis = 0)\n",
        "    fn = ((yt - yp) > 0).sum(axis = 0)\n",
        "    tp = (yt*yp).sum(axis = 0)\n",
        "    tn = ((yt==0)*(yp==0)).sum(axis = 0)\n",
        "    mtx = np.vstack([tp/(tp + fn), fn/(tp + fn), tn/(tn + fp), fp/(tn + fp)]).T\n",
        "    plt.figure(num=None, figsize=(5, 15), dpi=100, facecolor='w', edgecolor='k')\n",
        "    plt.imshow(mtx, interpolation='nearest',cmap='Blues')\n",
        "    plt.title(\"Confusion matrix\")\n",
        "    tick_marks = np.arange(n_classes)\n",
        "    plt.xticks(tick_marks, labels)\n",
        "    plt.yticks(tick_marks, labels)\n",
        "    for i, j in itertools.product(range(n_classes), range(4)):\n",
        "        plt.text(j, i, round(mtx[i][j],2), horizontalalignment=\"center\")\n",
        "\n",
        "    plt.ylabel('True labels')\n",
        "    plt.xlabel('True Predicted')\n",
        "    plt.show()"
      ],
      "execution_count": null,
      "outputs": []
    },
    {
      "cell_type": "code",
      "metadata": {
        "colab": {
          "base_uri": "https://localhost:8080/",
          "height": 282
        },
        "id": "P1Yefzt0lbXx",
        "outputId": "fb70f961-11e7-4b77-91d5-43d4d903399b"
      },
      "source": [
        "confusion_matrix(normalized_testing_label, prediction, labels=['Parasitized','Uninfected'])\n"
      ],
      "execution_count": null,
      "outputs": [
        {
          "output_type": "error",
          "ename": "ValueError",
          "evalue": "ignored",
          "traceback": [
            "\u001b[0;31m---------------------------------------------------------------------------\u001b[0m",
            "\u001b[0;31mValueError\u001b[0m                                Traceback (most recent call last)",
            "\u001b[0;32m<ipython-input-52-ba1d19a4cddd>\u001b[0m in \u001b[0;36m<module>\u001b[0;34m()\u001b[0m\n\u001b[0;32m----> 1\u001b[0;31m \u001b[0mconfusion_matrix\u001b[0m\u001b[0;34m(\u001b[0m\u001b[0mnormalized_testing_label\u001b[0m\u001b[0;34m,\u001b[0m \u001b[0mprediction\u001b[0m\u001b[0;34m,\u001b[0m \u001b[0mlabels\u001b[0m\u001b[0;34m=\u001b[0m\u001b[0;34m[\u001b[0m\u001b[0;34m'Parasitized'\u001b[0m\u001b[0;34m,\u001b[0m\u001b[0;34m'Uninfected'\u001b[0m\u001b[0;34m]\u001b[0m\u001b[0;34m)\u001b[0m\u001b[0;34m\u001b[0m\u001b[0;34m\u001b[0m\u001b[0m\n\u001b[0m",
            "\u001b[0;32m<ipython-input-51-807b93366309>\u001b[0m in \u001b[0;36mconfusion_matrix\u001b[0;34m(yt, yp, labels)\u001b[0m\n\u001b[1;32m      3\u001b[0m     \u001b[0minstcount\u001b[0m \u001b[0;34m=\u001b[0m \u001b[0myt\u001b[0m\u001b[0;34m.\u001b[0m\u001b[0mshape\u001b[0m\u001b[0;34m[\u001b[0m\u001b[0;36m0\u001b[0m\u001b[0;34m]\u001b[0m\u001b[0;34m\u001b[0m\u001b[0;34m\u001b[0m\u001b[0m\n\u001b[1;32m      4\u001b[0m     \u001b[0mn_classes\u001b[0m \u001b[0;34m=\u001b[0m \u001b[0mlen\u001b[0m\u001b[0;34m(\u001b[0m\u001b[0mlabels\u001b[0m\u001b[0;34m)\u001b[0m\u001b[0;34m\u001b[0m\u001b[0;34m\u001b[0m\u001b[0m\n\u001b[0;32m----> 5\u001b[0;31m     \u001b[0mfp\u001b[0m \u001b[0;34m=\u001b[0m \u001b[0;34m(\u001b[0m\u001b[0;34m(\u001b[0m\u001b[0myt\u001b[0m \u001b[0;34m-\u001b[0m \u001b[0myp\u001b[0m\u001b[0;34m)\u001b[0m \u001b[0;34m<\u001b[0m \u001b[0;36m0\u001b[0m\u001b[0;34m)\u001b[0m\u001b[0;34m.\u001b[0m\u001b[0msum\u001b[0m\u001b[0;34m(\u001b[0m\u001b[0maxis\u001b[0m \u001b[0;34m=\u001b[0m \u001b[0;36m0\u001b[0m\u001b[0;34m)\u001b[0m\u001b[0;34m\u001b[0m\u001b[0;34m\u001b[0m\u001b[0m\n\u001b[0m\u001b[1;32m      6\u001b[0m     \u001b[0mfn\u001b[0m \u001b[0;34m=\u001b[0m \u001b[0;34m(\u001b[0m\u001b[0;34m(\u001b[0m\u001b[0myt\u001b[0m \u001b[0;34m-\u001b[0m \u001b[0myp\u001b[0m\u001b[0;34m)\u001b[0m \u001b[0;34m>\u001b[0m \u001b[0;36m0\u001b[0m\u001b[0;34m)\u001b[0m\u001b[0;34m.\u001b[0m\u001b[0msum\u001b[0m\u001b[0;34m(\u001b[0m\u001b[0maxis\u001b[0m \u001b[0;34m=\u001b[0m \u001b[0;36m0\u001b[0m\u001b[0;34m)\u001b[0m\u001b[0;34m\u001b[0m\u001b[0;34m\u001b[0m\u001b[0m\n\u001b[1;32m      7\u001b[0m     \u001b[0mtp\u001b[0m \u001b[0;34m=\u001b[0m \u001b[0;34m(\u001b[0m\u001b[0myt\u001b[0m\u001b[0;34m*\u001b[0m\u001b[0myp\u001b[0m\u001b[0;34m)\u001b[0m\u001b[0;34m.\u001b[0m\u001b[0msum\u001b[0m\u001b[0;34m(\u001b[0m\u001b[0maxis\u001b[0m \u001b[0;34m=\u001b[0m \u001b[0;36m0\u001b[0m\u001b[0;34m)\u001b[0m\u001b[0;34m\u001b[0m\u001b[0;34m\u001b[0m\u001b[0m\n",
            "\u001b[0;31mValueError\u001b[0m: operands could not be broadcast together with shapes (20,) (20,2) "
          ]
        }
      ]
    },
    {
      "cell_type": "markdown",
      "metadata": {
        "id": "AAHOaZcEdS5a"
      },
      "source": [
        "###\t**Step 6.3.3: Print Classification Report**"
      ]
    },
    {
      "cell_type": "code",
      "metadata": {
        "colab": {
          "base_uri": "https://localhost:8080/",
          "height": 573
        },
        "id": "2xiyzPOeddAM",
        "outputId": "8829daf0-8027-4d17-825f-bcd879c50d3e"
      },
      "source": [
        "plt.plot(history.history['accuracy'])\n",
        "plt.plot(history.history['val_accuracy'])\n",
        "plt.title('Model accuracy')\n",
        "plt.ylabel('Accuracy')\n",
        "plt.xlabel('Epoch')\n",
        "plt.legend(['Train', 'Test'], loc='upper left')\n",
        "plt.show()\n",
        "\n",
        "# Plot training & validation loss values\n",
        "plt.plot(history.history['loss'])\n",
        "plt.plot(history.history['val_loss'])\n",
        "plt.title('Model loss')\n",
        "plt.ylabel('Loss')\n",
        "plt.xlabel('Epochs')\n",
        "plt.legend(['Train', 'Test'], loc='upper left')\n",
        "plt.show()"
      ],
      "execution_count": null,
      "outputs": [
        {
          "output_type": "display_data",
          "data": {
            "image/png": "[encoded data removed]",
            "text/plain": [
              "<Figure size 432x288 with 1 Axes>"
            ]
          },
          "metadata": {
            "tags": [],
            "needs_background": "light"
          }
        },
        {
          "output_type": "display_data",
          "data": {
            "image/png": "[encoded data removed]",
            "text/plain": [
              "<Figure size 432x288 with 1 Axes>"
            ]
          },
          "metadata": {
            "tags": [],
            "needs_background": "light"
          }
        }
      ]
    },
    {
      "cell_type": "markdown",
      "metadata": {
        "id": "B7mRHI4wwb32"
      },
      "source": [
        "# **Step 7: Execute the Application Phase**"
      ]
    },
    {
      "cell_type": "markdown",
      "metadata": {
        "id": "4xs3cpd2OtYX"
      },
      "source": [
        "## **Step 7.1: Take Input (Cell Image) from User** "
      ]
    },
    {
      "cell_type": "code",
      "metadata": {
        "id": "xSUNuQS4VkA8"
      },
      "source": [
        "# importing image from user\n",
        "path = '../content/drive/MyDrive/Maleria_Sample Data/Training_Data/Parasitized/Parasitze_IMG- (1).png'\n",
        "getImg =cv2.imread(path)\n"
      ],
      "execution_count": null,
      "outputs": []
    },
    {
      "cell_type": "markdown",
      "metadata": {
        "id": "oneTW5k5eN8S"
      },
      "source": [
        "## **Step 7.2: Convert User Input (Cell Image) into Feature Vector(Exactly Same as Feature Vectors of Training Data,Validation Data and Testing Data)** "
      ]
    },
    {
      "cell_type": "code",
      "metadata": {
        "id": "ugardq9geIka"
      },
      "source": [
        "resize_user_image = cv2.resize(getImg, img_dmntn)\n",
        "grayscale_user_image = cv2.cvtColor(np.float32(resize_user_image), cv2.COLOR_BGR2GRAY)\n",
        "normalized_user_image = grayscale_user_image / 255\n",
        "\n",
        "preprocessed_user_image = normalized_user_image.reshape(-1,img_width,img_height,1)"
      ],
      "execution_count": null,
      "outputs": []
    },
    {
      "cell_type": "markdown",
      "metadata": {
        "id": "yY758nHKPZim"
      },
      "source": [
        "## **Step 7.3: Make Prediction on Unseen Data** "
      ]
    },
    {
      "cell_type": "markdown",
      "metadata": {
        "id": "hH0jfUHXPmLM"
      },
      "source": [
        "### **Step 7.3.1. Load Saved Model**"
      ]
    },
    {
      "cell_type": "code",
      "metadata": {
        "id": "_peSQvrmGvxt"
      },
      "source": [
        "# Loading our Saved model\n",
        "LoadModel = load_model('/content/my_model.h5') \n"
      ],
      "execution_count": null,
      "outputs": []
    },
    {
      "cell_type": "markdown",
      "metadata": {
        "id": "1yWeHLLeQDqo"
      },
      "source": [
        "### **Step 7.3.2: Apply Model on Feature Vector of Unseen Data**"
      ]
    },
    {
      "cell_type": "code",
      "metadata": {
        "colab": {
          "base_uri": "https://localhost:8080/"
        },
        "id": "xFtkw1AgS2RX",
        "outputId": "d64fba23-0f5f-4402-8a4a-191e1d454aed"
      },
      "source": [
        "prediction = model.predict(preprocessed_user_image)\n"
      ],
      "execution_count": null,
      "outputs": [
        {
          "output_type": "stream",
          "text": [
            "/usr/local/lib/python3.6/dist-packages/tensorflow/python/data/ops/dataset_ops.py:3350: UserWarning: Even though the tf.config.experimental_run_functions_eagerly option is set, this option does not apply to tf.data functions. tf.data functions are still traced and executed as graphs.\n",
            "  \"Even though the tf.config.experimental_run_functions_eagerly \"\n"
          ],
          "name": "stderr"
        }
      ]
    },
    {
      "cell_type": "markdown",
      "metadata": {
        "id": "e4fZaDbZVAci"
      },
      "source": [
        "### **Step 7.3.3. Retrun Prediction to User**"
      ]
    },
    {
      "cell_type": "code",
      "metadata": {
        "colab": {
          "base_uri": "https://localhost:8080/",
          "height": 231
        },
        "id": "X3huScVOU1Fp",
        "outputId": "b9d3b16f-ce07-44c6-b646-4296ae0f799a"
      },
      "source": [
        "if prediction < 0.7 :\n",
        "  print(\"\"\"\n",
        "  *====================*\n",
        "  |     Parasitized    |\n",
        "  *====================*\n",
        "  \"\"\")\n",
        "else:\n",
        "    print(\"\"\"\n",
        "  *====================*\n",
        "  |     Uninfected     |\n",
        "  *====================*\n",
        "  \"\"\")"
      ],
      "execution_count": null,
      "outputs": [
        {
          "output_type": "error",
          "ename": "ValueError",
          "evalue": "ignored",
          "traceback": [
            "\u001b[0;31m---------------------------------------------------------------------------\u001b[0m",
            "\u001b[0;31mValueError\u001b[0m                                Traceback (most recent call last)",
            "\u001b[0;32m<ipython-input-58-f72a0ad1920d>\u001b[0m in \u001b[0;36m<module>\u001b[0;34m()\u001b[0m\n\u001b[0;32m----> 1\u001b[0;31m \u001b[0;32mif\u001b[0m \u001b[0mprediction\u001b[0m \u001b[0;34m<\u001b[0m \u001b[0;36m0.7\u001b[0m \u001b[0;34m:\u001b[0m\u001b[0;34m\u001b[0m\u001b[0;34m\u001b[0m\u001b[0m\n\u001b[0m\u001b[1;32m      2\u001b[0m   print(\"\"\"\n\u001b[1;32m      3\u001b[0m   \u001b[0;34m*=\u001b[0m\u001b[0;34m==\u001b[0m\u001b[0;34m==\u001b[0m\u001b[0;34m==\u001b[0m\u001b[0;34m==\u001b[0m\u001b[0;34m==\u001b[0m\u001b[0;34m==\u001b[0m\u001b[0;34m==\u001b[0m\u001b[0;34m==\u001b[0m\u001b[0;34m==\u001b[0m\u001b[0;34m=\u001b[0m\u001b[0;34m*\u001b[0m\u001b[0;34m\u001b[0m\u001b[0;34m\u001b[0m\u001b[0m\n\u001b[1;32m      4\u001b[0m   \u001b[0;34m|\u001b[0m     \u001b[0mParasitized\u001b[0m    \u001b[0;34m|\u001b[0m\u001b[0;34m\u001b[0m\u001b[0;34m\u001b[0m\u001b[0m\n\u001b[1;32m      5\u001b[0m   \u001b[0;34m*=\u001b[0m\u001b[0;34m==\u001b[0m\u001b[0;34m==\u001b[0m\u001b[0;34m==\u001b[0m\u001b[0;34m==\u001b[0m\u001b[0;34m==\u001b[0m\u001b[0;34m==\u001b[0m\u001b[0;34m==\u001b[0m\u001b[0;34m==\u001b[0m\u001b[0;34m==\u001b[0m\u001b[0;34m=\u001b[0m\u001b[0;34m*\u001b[0m\u001b[0;34m\u001b[0m\u001b[0;34m\u001b[0m\u001b[0m\n",
            "\u001b[0;31mValueError\u001b[0m: The truth value of an array with more than one element is ambiguous. Use a.any() or a.all()"
          ]
        }
      ]
    },
    {
      "cell_type": "markdown",
      "metadata": {
        "id": "ufRfiyx5wj0J"
      },
      "source": [
        "# **Step 8: Execute the Feedback Phase**\n"
      ]
    },
    {
      "cell_type": "markdown",
      "metadata": {
        "id": "DXtm8g8Tw2ns"
      },
      "source": [
        "A Two Step Process\n",
        "*   Step 1: After sometime , take Feedback from \n",
        "  * Domain Experts and Users on deployed Gender Prediction System\n",
        "*   Step 2: Make a List of Possible Improvements based on Feedback received\n"
      ]
    },
    {
      "cell_type": "markdown",
      "metadata": {
        "id": "t_mnVdBGwpMk"
      },
      "source": [
        "# **Step 9: Improve Model based on Feedback**\n",
        "\n"
      ]
    },
    {
      "cell_type": "markdown",
      "metadata": {
        "id": "w97lS9jBxEj9"
      },
      "source": [
        "* There is Always Room for Improvement 😊\n",
        "* Based on Feedback form Domain Experts and Users\n",
        "  * Improve your Model "
      ]
    }
  ]
}